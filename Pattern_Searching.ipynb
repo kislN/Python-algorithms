{
  "nbformat": 4,
  "nbformat_minor": 0,
  "metadata": {
    "colab": {
      "name": "Pattern_Searching.ipynb",
      "provenance": [],
      "collapsed_sections": [],
      "toc_visible": true
    },
    "kernelspec": {
      "name": "python3",
      "display_name": "Python 3"
    }
  },
  "cells": [
    {
      "cell_type": "markdown",
      "metadata": {
        "id": "8TElPMtDToUB",
        "colab_type": "text"
      },
      "source": [
        "# Laboratory work 1\n",
        "Done by *Aroslankin, Kuklin, Kislytsina*.\n",
        "Algorithm implementation avaiable at [Python-algorithms](https://github.com/orrrrtem/Python-algorithms).  There are algorithms implementation and tests.\n",
        "Planned to add next laboratories to the same repository.  "
      ]
    },
    {
      "cell_type": "markdown",
      "metadata": {
        "id": "hIlau3QPT3HT",
        "colab_type": "text"
      },
      "source": [
        "System utilities"
      ]
    },
    {
      "cell_type": "code",
      "metadata": {
        "id": "bNE3mx5n_qkz",
        "colab_type": "code",
        "outputId": "4d0c45e7-a32f-4de2-95b9-b71140249aff",
        "colab": {
          "base_uri": "https://localhost:8080/",
          "height": 51
        }
      },
      "source": [
        "from google.colab import drive # import drive from google colab\n",
        "\n",
        "ROOT = \"/content/drive\"     # default location for the drive\n",
        "print(ROOT)                 # print content of ROOT (Optional)\n",
        "  \n",
        "drive.mount(ROOT)           # we mount the google drive at /content/drive"
      ],
      "execution_count": 99,
      "outputs": [
        {
          "output_type": "stream",
          "text": [
            "/content/drive\n",
            "Drive already mounted at /content/drive; to attempt to forcibly remount, call drive.mount(\"/content/drive\", force_remount=True).\n"
          ],
          "name": "stdout"
        }
      ]
    },
    {
      "cell_type": "code",
      "metadata": {
        "id": "pBUNMuMLUwv3",
        "colab_type": "code",
        "outputId": "f79def06-2253-424c-d959-8f19f34b2204",
        "colab": {
          "base_uri": "https://localhost:8080/",
          "height": 257
        }
      },
      "source": [
        "%cd \"/content/drive/My Drive/\"\n",
        "!git clone https://github.com/orrrrtem/Python-algorithms.git\n",
        "%cd Python-algorithms\n",
        "!git pull\n",
        "BENCH_DIR = ROOT + '/My Drive/Python-algorithms/benchmarks'"
      ],
      "execution_count": 147,
      "outputs": [
        {
          "output_type": "stream",
          "text": [
            "/content/drive/My Drive\n",
            "fatal: destination path 'Python-algorithms' already exists and is not an empty directory.\n",
            "/content/drive/My Drive/Python-algorithms\n",
            "remote: Enumerating objects: 9, done.\u001b[K\n",
            "remote: Counting objects: 100% (9/9), done.\u001b[K\n",
            "remote: Compressing objects: 100% (4/4), done.\u001b[K\n",
            "remote: Total 5 (delta 2), reused 0 (delta 0), pack-reused 0\u001b[K\n",
            "Unpacking objects: 100% (5/5), done.\n",
            "From https://github.com/orrrrtem/Python-algorithms\n",
            "   6b34f59..6694c70  master     -> origin/master\n",
            "Updating 6b34f59..6694c70\n",
            "Fast-forward\n",
            " tools/string_searching/make_measurements.py | 2 \u001b[32m+\u001b[m\u001b[31m-\u001b[m\n",
            " 1 file changed, 1 insertion(+), 1 deletion(-)\n"
          ],
          "name": "stdout"
        }
      ]
    },
    {
      "cell_type": "markdown",
      "metadata": {
        "id": "rBTxwc3dWdZN",
        "colab_type": "text"
      },
      "source": [
        "# Tests for all string searching methods"
      ]
    },
    {
      "cell_type": "code",
      "metadata": {
        "id": "ziideTQ1VBto",
        "colab_type": "code",
        "outputId": "29f80954-9a82-4f77-ff17-f7f0c2e4a8c6",
        "colab": {
          "base_uri": "https://localhost:8080/",
          "height": 86
        }
      },
      "source": [
        "!python tests/test_string_searching.py"
      ],
      "execution_count": 138,
      "outputs": [
        {
          "output_type": "stream",
          "text": [
            "naive  passed\n",
            "robin_carp  passed\n",
            "kmp  passed\n",
            "bmh  passed\n"
          ],
          "name": "stdout"
        }
      ]
    },
    {
      "cell_type": "markdown",
      "metadata": {
        "id": "HbcyYPdX9HMi",
        "colab_type": "text"
      },
      "source": [
        "creating csv"
      ]
    },
    {
      "cell_type": "code",
      "metadata": {
        "id": "cb3eB76N6lta",
        "colab_type": "code",
        "colab": {}
      },
      "source": [
        "!python tools/string_searching/make_measurements.py \"/content/drive/My Drive/Python-algorithms/benchmarks\""
      ],
      "execution_count": 0,
      "outputs": []
    },
    {
      "cell_type": "markdown",
      "metadata": {
        "id": "fH65NBto1Jz1",
        "colab_type": "text"
      },
      "source": [
        "# Pattern search implementations \n",
        "Implementation description of each method.\n",
        "All implementations are taken from [Python-algorithms](https://github.com/orrrrtem/Python-algorithms). They are here with for clearer viewing."
      ]
    },
    {
      "cell_type": "markdown",
      "metadata": {
        "id": "zMRObsXQYFHG",
        "colab_type": "text"
      },
      "source": [
        "## Naive algorithm"
      ]
    },
    {
      "cell_type": "markdown",
      "metadata": {
        "id": "dfB4NbIFYXXM",
        "colab_type": "text"
      },
      "source": [
        "The Naive String Matching algorithm slides the pattern one by one. After each slide, it one by one checks characters at the current shift and if all characters match then prints the match. \n"
      ]
    },
    {
      "cell_type": "code",
      "metadata": {
        "id": "HE51h4sYiwcz",
        "colab_type": "code",
        "colab": {}
      },
      "source": [
        "def naive(pattern, text):\n",
        "    entries = []\n",
        "    if len(pattern) > len(text):\n",
        "        return entries\n",
        "    for text_index in range(len(text) - len(pattern) + 1):\n",
        "        pattern_index = 0\n",
        "        while(pattern_index < len(pattern)): \n",
        "            if (text[text_index + pattern_index] != pattern[pattern_index]): \n",
        "                break\n",
        "            pattern_index += 1\n",
        "        if pattern_index is len(pattern):\n",
        "            entries.append(text_index)\n",
        "    return entries\n"
      ],
      "execution_count": 0,
      "outputs": []
    },
    {
      "cell_type": "markdown",
      "metadata": {
        "id": "iMmQD-2gkp_M",
        "colab_type": "text"
      },
      "source": [
        "Small test for naive algorithm."
      ]
    },
    {
      "cell_type": "code",
      "metadata": {
        "id": "nwYYVo0ekpda",
        "colab_type": "code",
        "outputId": "4d4e4e6d-bc22-4245-e513-2ed7657f2a26",
        "colab": {
          "base_uri": "https://localhost:8080/",
          "height": 34
        }
      },
      "source": [
        "text_test = 'ohoh;oh Fuck, oh, oh fucj, Fuck Fuuuuck   shiiit oh'\n",
        "pattern_test = 'oh'\n",
        "indexes_test = naive(pattern_test,text_test)\n",
        "print(indexes_test)"
      ],
      "execution_count": 111,
      "outputs": [
        {
          "output_type": "stream",
          "text": [
            "[0, 2, 5, 14, 18, 49]\n"
          ],
          "name": "stdout"
        }
      ]
    },
    {
      "cell_type": "markdown",
      "metadata": {
        "id": "y8WIQae2ZRTb",
        "colab_type": "text"
      },
      "source": [
        "## Rabin-Karp algorithm"
      ]
    },
    {
      "cell_type": "markdown",
      "metadata": {
        "id": "hAyN56GAZPrU",
        "colab_type": "text"
      },
      "source": [
        "Like the Naive Algorithm, Rabin-Karp algorithm also slides the pattern one by one. But unlike the Naive algorithm, Rabin Karp algorithm matches the hash value of the pattern with the hash value of current substring of text, and if the hash values match then only it starts matching individual characters. \n",
        " \n",
        "\n",
        "So Rabin Karp algorithm needs to calculate hash values for following strings. \n",
        "Hash at the next shift must be efficiently computable from the current hash value and next character in text or we can say hash(txt[s+1 .. s+m]) must be efficiently computable from $hash(txt[s .. s+m-1])$ and $txt[s+m]$ i.e., $hash(txt[s+1 .. s+m])= rehash(txt[s+m]$, $hash(txt[s .. s+m-1]))$ and rehash must be O(1) operation.\n",
        "\n",
        "The hash function suggested by Rabin and Karp calculates an integer value. The integer value for a string is numeric value of a string. For example, if all possible characters are from $1$ to $10$, the numeric value of “122” will be $122$. The number of possible characters is higher than $10$ ($256$ in general) and pattern length can be large. So the numeric values cannot be practically stored as an integer. Therefore, the numeric value is calculated using modular arithmetic to make sure that the hash values can be stored in an integer variable (can fit in memory words)"
      ]
    },
    {
      "cell_type": "code",
      "metadata": {
        "id": "wlMsogoLmy2n",
        "colab_type": "code",
        "colab": {}
      },
      "source": [
        "def robin_carp(pattern, text):\n",
        "    entries = []\n",
        "    if len(pattern) > len(text):\n",
        "        return entries \n",
        "    hash_pattern = 0    # hash value for pattern \n",
        "    hash_text = 0    # hash value for txt \n",
        "    h = 1 # hash init\n",
        "    d = 256 # is the number of characters in the input alphabet\n",
        "    q = 977 # TODO compute it from args sizes\n",
        "    for i in range(len(pattern) - 1): \n",
        "        h = (h * d) % q \n",
        "  \n",
        "    # hash by module q\n",
        "    for i in range(len(pattern)): \n",
        "        hash_pattern = (d * hash_pattern + ord(pattern[i])) % q \n",
        "        hash_text = (d * hash_text + ord(text[i])) % q \n",
        "\n",
        "    # Slide the pattern over text one by one \n",
        "    for i in range(len(text) - len(pattern) + 1): \n",
        "        # Check the hash values of current window\n",
        "        if hash_pattern is hash_text: \n",
        "            for j in range(len(pattern)): \n",
        "                if text[i+j] != pattern[j]: \n",
        "                    break\n",
        "            if j + 1 == len(pattern): \n",
        "                entries.append(i)\n",
        "  \n",
        "        # Calculate hash value for next window of text: Remove \n",
        "        # leading digit, add trailing digit \n",
        "        if i < len(text) - len(pattern): \n",
        "            hash_text = (d * (hash_text - ord(text[i]) * h) + ord(text[i + len(pattern)])) % q \n",
        "            # We might get negative values of t\n",
        "            if hash_text < 0: \n",
        "                hash_text = hash_text + q \n",
        "    return entries"
      ],
      "execution_count": 0,
      "outputs": []
    },
    {
      "cell_type": "markdown",
      "metadata": {
        "id": "gZzDl_Uem0dt",
        "colab_type": "text"
      },
      "source": [
        "Small test for Robin-Carp algorithm."
      ]
    },
    {
      "cell_type": "code",
      "metadata": {
        "id": "MbAan_-8m45Z",
        "colab_type": "code",
        "outputId": "f6764376-d844-41d4-bced-31089f60c9a0",
        "colab": {
          "base_uri": "https://localhost:8080/",
          "height": 34
        }
      },
      "source": [
        "text_test = 'ohoh;oh Fuck, oh, oh fucj, Fuck Fuuuuck   shiiit oh'\n",
        "pattern_test = 'oh'\n",
        "#text_test = 'aaaaaaaaaaa'\n",
        "#pattern_test = 'a'\n",
        "indexes_test = robin_carp(pattern_test, text_test)\n",
        "print(indexes_test)"
      ],
      "execution_count": 113,
      "outputs": [
        {
          "output_type": "stream",
          "text": [
            "[0, 2, 5, 14, 18, 49]\n"
          ],
          "name": "stdout"
        }
      ]
    },
    {
      "cell_type": "markdown",
      "metadata": {
        "id": "og4bdWHdOYbH",
        "colab_type": "text"
      },
      "source": [
        "## Knuth Morris Pratt algorithm"
      ]
    },
    {
      "cell_type": "markdown",
      "metadata": {
        "id": "MjLpKld-YUb1",
        "colab_type": "text"
      },
      "source": [
        "The Naive pattern searching algorithm does not work well in cases where we see many matching characters followed by a mismatching character. \n",
        "\n",
        "The KMP matching algorithm uses degenerating property (pattern having same sub-patterns appearing more than once in the pattern) of the pattern and improves the worst case complexity to $O(n)$. The basic idea behind KMP’s algorithm is: whenever we detect a mismatch (after some matches), we already know some of the characters in the text of the next window. We take advantage of this information to avoid matching the characters that we know will anyway match. "
      ]
    },
    {
      "cell_type": "code",
      "metadata": {
        "id": "PL6P8x1nOf8B",
        "colab_type": "code",
        "colab": {}
      },
      "source": [
        "def prefix(string):\n",
        "    prefix_function = [0] * len(string)\n",
        "    for i in range(1,len(string)):\n",
        "        k = prefix_function[i-1]\n",
        "        while k > 0 and string[k] != string[i]:\n",
        "            k = prefix_function[k-1]\n",
        "        if string[k] == string[i]:\n",
        "            k = k + 1\n",
        "        prefix_function[i] = k\n",
        "    return prefix_function\n",
        "\n",
        "def kmp(pattern, text):\n",
        "    entries = []\n",
        "    if len(pattern) > len(text):\n",
        "        return entries\n",
        "    prefix_function = prefix(pattern)\n",
        "    text_index = pattern_index = 0\n",
        "    while text_index < len(text) and pattern_index < len(pattern):\n",
        "        if text[text_index] == pattern[pattern_index]:\n",
        "            if pattern_index == len(pattern) - 1:\n",
        "                entries.append(text_index - len(pattern) + 1)\n",
        "                pattern_index = 0\n",
        "            else:\n",
        "                pattern_index += 1\n",
        "            text_index += 1\n",
        "        elif pattern_index is not 0:     \n",
        "            pattern_index = prefix_function[pattern_index-1]\n",
        "        else:\n",
        "            text_index += 1\n",
        "    return entries"
      ],
      "execution_count": 0,
      "outputs": []
    },
    {
      "cell_type": "markdown",
      "metadata": {
        "id": "tRwB0kHpiIUA",
        "colab_type": "text"
      },
      "source": [
        "Small test for KMP algorithm."
      ]
    },
    {
      "cell_type": "code",
      "metadata": {
        "id": "sTAfvqHpQsxW",
        "colab_type": "code",
        "outputId": "2a58efb8-3c6d-42f9-ca0d-46c88e266271",
        "colab": {
          "base_uri": "https://localhost:8080/",
          "height": 34
        }
      },
      "source": [
        "text_test = 'ohoh;oh Fuck, oh, oh fucj, Fuck Fuuuuck   shiiit oh'\n",
        "pattern_test = 'oh'\n",
        "indexes_test = kmp(pattern_test,text_test)\n",
        "print(indexes_test)"
      ],
      "execution_count": 115,
      "outputs": [
        {
          "output_type": "stream",
          "text": [
            "[0, 2, 5, 14, 18, 49]\n"
          ],
          "name": "stdout"
        }
      ]
    },
    {
      "cell_type": "markdown",
      "metadata": {
        "id": "hQKU01ibPqy9",
        "colab_type": "text"
      },
      "source": [
        "## Boyer–Moore–Horspool algorithm  \n",
        "\n",
        "Algorith needs a special pattern preprocessing, where each symbol in the pattern has its own value. This value means the distance from the last patter symbol. Not all symbols may be contained in patter, so these remaining chars has value = len(pattern). one option is to collect all ascii codes for each char and its value in dictionary.   \n",
        "The main idea is that we start to compare pattern and part of the text. If we have a masmatch - we shift the pattern on $n$ symbols righter, where $n$ is value from preprocessed dictionary. If text and pattern are matching - pattern "
      ]
    },
    {
      "cell_type": "markdown",
      "metadata": {
        "id": "c72I8nmRHOEy",
        "colab_type": "text"
      },
      "source": [
        ""
      ]
    },
    {
      "cell_type": "code",
      "metadata": {
        "id": "u8hnqoFFPqId",
        "colab_type": "code",
        "colab": {}
      },
      "source": [
        "from copy import deepcopy\n",
        "\n",
        "def get_int_image(x):\n",
        "    length = len(x)\n",
        "    image_dict = {i: length for i in range(2048)}\n",
        "    for idx, char in enumerate(x[:-1], start=1):\n",
        "        # if char not in image_dict:\n",
        "        image_dict[ord(char)] = length-idx\n",
        "\n",
        "    return image_dict\n",
        "\n",
        "\n",
        "def bmh(pattern, text):\n",
        "    entries = []\n",
        "    if len(pattern) > len(text):\n",
        "        return entries\n",
        "    image_dict = get_int_image(pattern)\n",
        "    length_text = len(text)\n",
        "    length_pattern = len(pattern)\n",
        "    i = length_pattern  # for text\n",
        "    j = length_pattern  # for pattern\n",
        "    entry_point = length_pattern  # for position in full string\n",
        "    while i <= length_text:\n",
        "        if text[i-1] == pattern[j-1] and j>0:\n",
        "            i -= 1\n",
        "            j -= 1\n",
        "        else:\n",
        "            if j == 0:\n",
        "                entries.append(entry_point - length_pattern)\n",
        "            # print(text[i-1])\n",
        "            entry_point += image_dict[ord(text[i-1])]\n",
        "            i = deepcopy(entry_point)\n",
        "            j = length_pattern\n",
        "    return entries"
      ],
      "execution_count": 0,
      "outputs": []
    },
    {
      "cell_type": "code",
      "metadata": {
        "id": "cStqXeKcQhEt",
        "colab_type": "code",
        "outputId": "507bf330-8998-430e-e122-80e8a00be2c3",
        "colab": {
          "base_uri": "https://localhost:8080/",
          "height": 34
        }
      },
      "source": [
        "text_test = 'ohoh;oh Fuck, oh, oh fucj, Fuck Fuuuuck   shiiit oh'\n",
        "pattern_test = 'oh'\n",
        "indexes_test = bmh(pattern_test,text_test)\n",
        "print(indexes_test)"
      ],
      "execution_count": 118,
      "outputs": [
        {
          "output_type": "stream",
          "text": [
            "[0, 2, 5, 14, 18, 49]\n"
          ],
          "name": "stdout"
        }
      ]
    },
    {
      "cell_type": "markdown",
      "metadata": {
        "id": "4MZ1cR73Pqd7",
        "colab_type": "text"
      },
      "source": [
        ""
      ]
    },
    {
      "cell_type": "markdown",
      "metadata": {
        "id": "0vLCSVEP1Upi",
        "colab_type": "text"
      },
      "source": [
        "# Bencmarking"
      ]
    },
    {
      "cell_type": "code",
      "metadata": {
        "id": "Sz0htXAh1at3",
        "colab_type": "code",
        "colab": {}
      },
      "source": [
        "all_methods = [naive, robin_carp, kmp, bmh]\n",
        "bad_patterns = []\n",
        "bad_texts = []\n",
        "good_patterns = []\n",
        "good_texts = []\n",
        "bad_files = []\n",
        "good_files = []\n",
        "for i in range(1,5):\n",
        "    bad_files.append('bad_t_' + str(i) +'.txt')\n",
        "    good_files.append( 'good_t_' + str(i) +'.txt')\n",
        "\n",
        "    with open(BENCH_DIR + '/' + bad_files[-1], 'r') as file:\n",
        "        bad_texts.append(file.read())\n",
        "    with open(BENCH_DIR + '/bad_w_' + str(i) +'.txt', 'r') as file:\n",
        "        bad_patterns.append(file.read())\n",
        "    with open(BENCH_DIR + '/' +good_files[-1], 'r') as file:\n",
        "        good_texts.append(file.read())\n",
        "    with open(BENCH_DIR + '/bad_w_' + str(i) +'.txt', 'r') as file:\n",
        "        good_patterns.append(file.read())\n"
      ],
      "execution_count": 0,
      "outputs": []
    },
    {
      "cell_type": "markdown",
      "metadata": {
        "id": "x9SrMnK47uQ3",
        "colab_type": "text"
      },
      "source": [
        "## Time metrics  \n",
        "Different time metrics computing functions."
      ]
    },
    {
      "cell_type": "code",
      "metadata": {
        "id": "NzO_-A9i747R",
        "colab_type": "code",
        "colab": {}
      },
      "source": [
        "import math \n",
        "\n",
        "def get_median(time_list, sorted = True):\n",
        "    if len(time_list) is 0:\n",
        "        return NaN\n",
        "    if not sorted:\n",
        "        time_list.sort()\n",
        "    if len(time_list) % 2 == 0:\n",
        "        return (time_list[int(len(time_list)/2)] + time_list[int(1 + len(time_list)/2)]) / 2\n",
        "    else:\n",
        "        return time_list[int(len(time_list)/2)]\n",
        "\n",
        "\n",
        "def get_min(time_list, sorted = True):\n",
        "    if len(time_list) is 0:\n",
        "        return NaN \n",
        "    if not sorted:\n",
        "        time_list.sort()  \n",
        "    return time_list[0]\n",
        "\n",
        "\n",
        "def get_max(time_list, sorted = True):\n",
        "    if len(time_list) is 0:\n",
        "        return NaN \n",
        "    if not sorted:\n",
        "        time_list.sort()  \n",
        "    return time_list[-1]\n",
        "\n",
        "def get_variance(time_list):\n",
        "    if len(time_list) is 0:\n",
        "        return NaN \n",
        "    mean = sum(time_list) / len(time_list) \n",
        "    variance = sum([((x - mean) ** 2) for x in time_list]) / len(time_list)\n",
        "    return variance\n",
        "\n",
        "def get_mean(time_list):\n",
        "    if len(time_list) is 0:\n",
        "        return NaN \n",
        "    mean = sum(time_list) / len(time_list) \n",
        "    return mean"
      ],
      "execution_count": 0,
      "outputs": []
    },
    {
      "cell_type": "markdown",
      "metadata": {
        "id": "bynHsC4d55ek",
        "colab_type": "text"
      },
      "source": [
        "## Time dfs\n",
        "Function for collecting data frames containing median, min and max values of selected methods run time both for bad and good datasets."
      ]
    },
    {
      "cell_type": "code",
      "metadata": {
        "id": "KXlECA8e4I7O",
        "colab_type": "code",
        "colab": {}
      },
      "source": [
        "import time\n",
        "import pandas as pd\n",
        "\n",
        "def get_time_df(num_iterations = 10, methods = [naive], len_cases = 4 ):\n",
        "    time_total = pd.DataFrame(columns=['file', 'method', 'mean', 'median', 'min', 'max', 'variance'])\n",
        "    df_index = 0\n",
        "    for i in range(0, len_cases):\n",
        "        for method in methods:\n",
        "            time_good = []\n",
        "            time_bad = []\n",
        "            for j in range(0, num_iterations):\n",
        "                t0 = time.time()\n",
        "                method(good_patterns[i], good_texts[i])\n",
        "                t1 = time.time()\n",
        "                total = t1-t0\n",
        "                time_good.append(total)\n",
        "\n",
        "                t0 = time.time()\n",
        "                method(bad_patterns[i], bad_texts[i])\n",
        "                t1 = time.time()\n",
        "                total = t1-t0\n",
        "                time_bad.append(total)\n",
        "            time_good.sort()\n",
        "            time_bad.sort()\n",
        "            time_total.loc[df_index] = [good_files[i], str(method.__name__), get_mean(time_good),\n",
        "                                         get_median(time_good), get_min(time_good), get_max(time_good), get_variance(time_good)]\n",
        "            time_total.loc[df_index + 1] = [bad_files[i], str(method.__name__), get_mean(time_bad),\n",
        "                                             get_median(time_bad), get_min(time_bad), get_max(time_bad), get_variance(time_bad)]\n",
        "            df_index += 2\n",
        "    return time_total"
      ],
      "execution_count": 0,
      "outputs": []
    },
    {
      "cell_type": "markdown",
      "metadata": {
        "id": "h3Z0z3gdM7BH",
        "colab_type": "text"
      },
      "source": [
        "## Run time statistic for all methods"
      ]
    },
    {
      "cell_type": "code",
      "metadata": {
        "id": "f3d_XJRp5uHX",
        "colab_type": "code",
        "outputId": "f6db5341-91bf-43ed-d4e3-14f498cc533d",
        "colab": {
          "base_uri": "https://localhost:8080/",
          "height": 1000
        }
      },
      "source": [
        "time_df = get_time_df(num_iterations=1000, methods = all_methods)\n",
        "time_df"
      ],
      "execution_count": 127,
      "outputs": [
        {
          "output_type": "execute_result",
          "data": {
            "text/html": [
              "<div>\n",
              "<style scoped>\n",
              "    .dataframe tbody tr th:only-of-type {\n",
              "        vertical-align: middle;\n",
              "    }\n",
              "\n",
              "    .dataframe tbody tr th {\n",
              "        vertical-align: top;\n",
              "    }\n",
              "\n",
              "    .dataframe thead th {\n",
              "        text-align: right;\n",
              "    }\n",
              "</style>\n",
              "<table border=\"1\" class=\"dataframe\">\n",
              "  <thead>\n",
              "    <tr style=\"text-align: right;\">\n",
              "      <th></th>\n",
              "      <th>file</th>\n",
              "      <th>method</th>\n",
              "      <th>mean</th>\n",
              "      <th>median</th>\n",
              "      <th>min</th>\n",
              "      <th>max</th>\n",
              "      <th>variance</th>\n",
              "    </tr>\n",
              "  </thead>\n",
              "  <tbody>\n",
              "    <tr>\n",
              "      <th>0</th>\n",
              "      <td>good_t_1.txt</td>\n",
              "      <td>naive</td>\n",
              "      <td>0.000171</td>\n",
              "      <td>0.000153</td>\n",
              "      <td>0.000152</td>\n",
              "      <td>0.001611</td>\n",
              "      <td>4.822995e-09</td>\n",
              "    </tr>\n",
              "    <tr>\n",
              "      <th>1</th>\n",
              "      <td>bad_t_1.txt</td>\n",
              "      <td>naive</td>\n",
              "      <td>0.000005</td>\n",
              "      <td>0.000004</td>\n",
              "      <td>0.000004</td>\n",
              "      <td>0.000550</td>\n",
              "      <td>3.002665e-10</td>\n",
              "    </tr>\n",
              "    <tr>\n",
              "      <th>2</th>\n",
              "      <td>good_t_1.txt</td>\n",
              "      <td>robin_carp</td>\n",
              "      <td>0.000394</td>\n",
              "      <td>0.000389</td>\n",
              "      <td>0.000380</td>\n",
              "      <td>0.000727</td>\n",
              "      <td>9.161041e-10</td>\n",
              "    </tr>\n",
              "    <tr>\n",
              "      <th>3</th>\n",
              "      <td>bad_t_1.txt</td>\n",
              "      <td>robin_carp</td>\n",
              "      <td>0.000006</td>\n",
              "      <td>0.000006</td>\n",
              "      <td>0.000005</td>\n",
              "      <td>0.000016</td>\n",
              "      <td>1.826600e-12</td>\n",
              "    </tr>\n",
              "    <tr>\n",
              "      <th>4</th>\n",
              "      <td>good_t_1.txt</td>\n",
              "      <td>kmp</td>\n",
              "      <td>0.000166</td>\n",
              "      <td>0.000164</td>\n",
              "      <td>0.000162</td>\n",
              "      <td>0.000246</td>\n",
              "      <td>3.674117e-11</td>\n",
              "    </tr>\n",
              "    <tr>\n",
              "      <th>5</th>\n",
              "      <td>bad_t_1.txt</td>\n",
              "      <td>kmp</td>\n",
              "      <td>0.000006</td>\n",
              "      <td>0.000006</td>\n",
              "      <td>0.000005</td>\n",
              "      <td>0.000014</td>\n",
              "      <td>4.496294e-13</td>\n",
              "    </tr>\n",
              "    <tr>\n",
              "      <th>6</th>\n",
              "      <td>good_t_1.txt</td>\n",
              "      <td>bmh</td>\n",
              "      <td>0.000436</td>\n",
              "      <td>0.000428</td>\n",
              "      <td>0.000416</td>\n",
              "      <td>0.000814</td>\n",
              "      <td>2.112062e-09</td>\n",
              "    </tr>\n",
              "    <tr>\n",
              "      <th>7</th>\n",
              "      <td>bad_t_1.txt</td>\n",
              "      <td>bmh</td>\n",
              "      <td>0.000120</td>\n",
              "      <td>0.000116</td>\n",
              "      <td>0.000114</td>\n",
              "      <td>0.000268</td>\n",
              "      <td>2.537219e-10</td>\n",
              "    </tr>\n",
              "    <tr>\n",
              "      <th>8</th>\n",
              "      <td>good_t_2.txt</td>\n",
              "      <td>naive</td>\n",
              "      <td>0.000264</td>\n",
              "      <td>0.000262</td>\n",
              "      <td>0.000258</td>\n",
              "      <td>0.000398</td>\n",
              "      <td>9.999618e-11</td>\n",
              "    </tr>\n",
              "    <tr>\n",
              "      <th>9</th>\n",
              "      <td>bad_t_2.txt</td>\n",
              "      <td>naive</td>\n",
              "      <td>0.000134</td>\n",
              "      <td>0.000132</td>\n",
              "      <td>0.000131</td>\n",
              "      <td>0.000226</td>\n",
              "      <td>5.033158e-11</td>\n",
              "    </tr>\n",
              "    <tr>\n",
              "      <th>10</th>\n",
              "      <td>good_t_2.txt</td>\n",
              "      <td>robin_carp</td>\n",
              "      <td>0.000646</td>\n",
              "      <td>0.000636</td>\n",
              "      <td>0.000630</td>\n",
              "      <td>0.001423</td>\n",
              "      <td>3.512361e-09</td>\n",
              "    </tr>\n",
              "    <tr>\n",
              "      <th>11</th>\n",
              "      <td>bad_t_2.txt</td>\n",
              "      <td>robin_carp</td>\n",
              "      <td>0.000045</td>\n",
              "      <td>0.000044</td>\n",
              "      <td>0.000043</td>\n",
              "      <td>0.000089</td>\n",
              "      <td>2.440188e-11</td>\n",
              "    </tr>\n",
              "    <tr>\n",
              "      <th>12</th>\n",
              "      <td>good_t_2.txt</td>\n",
              "      <td>kmp</td>\n",
              "      <td>0.000278</td>\n",
              "      <td>0.000276</td>\n",
              "      <td>0.000272</td>\n",
              "      <td>0.000368</td>\n",
              "      <td>7.242268e-11</td>\n",
              "    </tr>\n",
              "    <tr>\n",
              "      <th>13</th>\n",
              "      <td>bad_t_2.txt</td>\n",
              "      <td>kmp</td>\n",
              "      <td>0.000054</td>\n",
              "      <td>0.000053</td>\n",
              "      <td>0.000051</td>\n",
              "      <td>0.000090</td>\n",
              "      <td>1.301971e-11</td>\n",
              "    </tr>\n",
              "    <tr>\n",
              "      <th>14</th>\n",
              "      <td>good_t_2.txt</td>\n",
              "      <td>bmh</td>\n",
              "      <td>0.000231</td>\n",
              "      <td>0.000216</td>\n",
              "      <td>0.000210</td>\n",
              "      <td>0.000905</td>\n",
              "      <td>2.492317e-09</td>\n",
              "    </tr>\n",
              "    <tr>\n",
              "      <th>15</th>\n",
              "      <td>bad_t_2.txt</td>\n",
              "      <td>bmh</td>\n",
              "      <td>0.000198</td>\n",
              "      <td>0.000186</td>\n",
              "      <td>0.000180</td>\n",
              "      <td>0.000815</td>\n",
              "      <td>2.047228e-09</td>\n",
              "    </tr>\n",
              "    <tr>\n",
              "      <th>16</th>\n",
              "      <td>good_t_3.txt</td>\n",
              "      <td>naive</td>\n",
              "      <td>0.000796</td>\n",
              "      <td>0.000781</td>\n",
              "      <td>0.000766</td>\n",
              "      <td>0.001711</td>\n",
              "      <td>7.285907e-09</td>\n",
              "    </tr>\n",
              "    <tr>\n",
              "      <th>17</th>\n",
              "      <td>bad_t_3.txt</td>\n",
              "      <td>naive</td>\n",
              "      <td>0.013689</td>\n",
              "      <td>0.013505</td>\n",
              "      <td>0.013412</td>\n",
              "      <td>0.023657</td>\n",
              "      <td>8.192041e-07</td>\n",
              "    </tr>\n",
              "    <tr>\n",
              "      <th>18</th>\n",
              "      <td>good_t_3.txt</td>\n",
              "      <td>robin_carp</td>\n",
              "      <td>0.001930</td>\n",
              "      <td>0.001911</td>\n",
              "      <td>0.001898</td>\n",
              "      <td>0.003557</td>\n",
              "      <td>1.449692e-08</td>\n",
              "    </tr>\n",
              "    <tr>\n",
              "      <th>19</th>\n",
              "      <td>bad_t_3.txt</td>\n",
              "      <td>robin_carp</td>\n",
              "      <td>0.000473</td>\n",
              "      <td>0.000468</td>\n",
              "      <td>0.000460</td>\n",
              "      <td>0.000910</td>\n",
              "      <td>1.243350e-09</td>\n",
              "    </tr>\n",
              "    <tr>\n",
              "      <th>20</th>\n",
              "      <td>good_t_3.txt</td>\n",
              "      <td>kmp</td>\n",
              "      <td>0.000870</td>\n",
              "      <td>0.000852</td>\n",
              "      <td>0.000839</td>\n",
              "      <td>0.002474</td>\n",
              "      <td>9.660633e-09</td>\n",
              "    </tr>\n",
              "    <tr>\n",
              "      <th>21</th>\n",
              "      <td>bad_t_3.txt</td>\n",
              "      <td>kmp</td>\n",
              "      <td>0.000542</td>\n",
              "      <td>0.000530</td>\n",
              "      <td>0.000522</td>\n",
              "      <td>0.001398</td>\n",
              "      <td>3.698306e-09</td>\n",
              "    </tr>\n",
              "    <tr>\n",
              "      <th>22</th>\n",
              "      <td>good_t_3.txt</td>\n",
              "      <td>bmh</td>\n",
              "      <td>0.000155</td>\n",
              "      <td>0.000151</td>\n",
              "      <td>0.000148</td>\n",
              "      <td>0.000374</td>\n",
              "      <td>3.371669e-10</td>\n",
              "    </tr>\n",
              "    <tr>\n",
              "      <th>23</th>\n",
              "      <td>bad_t_3.txt</td>\n",
              "      <td>bmh</td>\n",
              "      <td>0.000909</td>\n",
              "      <td>0.000894</td>\n",
              "      <td>0.000870</td>\n",
              "      <td>0.002086</td>\n",
              "      <td>5.654705e-09</td>\n",
              "    </tr>\n",
              "    <tr>\n",
              "      <th>24</th>\n",
              "      <td>good_t_4.txt</td>\n",
              "      <td>naive</td>\n",
              "      <td>0.002597</td>\n",
              "      <td>0.002541</td>\n",
              "      <td>0.002515</td>\n",
              "      <td>0.004882</td>\n",
              "      <td>5.749469e-08</td>\n",
              "    </tr>\n",
              "    <tr>\n",
              "      <th>25</th>\n",
              "      <td>bad_t_4.txt</td>\n",
              "      <td>naive</td>\n",
              "      <td>0.696272</td>\n",
              "      <td>0.696740</td>\n",
              "      <td>0.687717</td>\n",
              "      <td>0.725928</td>\n",
              "      <td>2.928640e-05</td>\n",
              "    </tr>\n",
              "    <tr>\n",
              "      <th>26</th>\n",
              "      <td>good_t_4.txt</td>\n",
              "      <td>robin_carp</td>\n",
              "      <td>0.006187</td>\n",
              "      <td>0.006128</td>\n",
              "      <td>0.006044</td>\n",
              "      <td>0.010721</td>\n",
              "      <td>1.584163e-07</td>\n",
              "    </tr>\n",
              "    <tr>\n",
              "      <th>27</th>\n",
              "      <td>bad_t_4.txt</td>\n",
              "      <td>robin_carp</td>\n",
              "      <td>0.002452</td>\n",
              "      <td>0.002424</td>\n",
              "      <td>0.002332</td>\n",
              "      <td>0.004530</td>\n",
              "      <td>3.276775e-08</td>\n",
              "    </tr>\n",
              "    <tr>\n",
              "      <th>28</th>\n",
              "      <td>good_t_4.txt</td>\n",
              "      <td>kmp</td>\n",
              "      <td>0.003108</td>\n",
              "      <td>0.003071</td>\n",
              "      <td>0.003022</td>\n",
              "      <td>0.005781</td>\n",
              "      <td>5.828717e-08</td>\n",
              "    </tr>\n",
              "    <tr>\n",
              "      <th>29</th>\n",
              "      <td>bad_t_4.txt</td>\n",
              "      <td>kmp</td>\n",
              "      <td>0.003392</td>\n",
              "      <td>0.003350</td>\n",
              "      <td>0.003296</td>\n",
              "      <td>0.006117</td>\n",
              "      <td>5.910159e-08</td>\n",
              "    </tr>\n",
              "    <tr>\n",
              "      <th>30</th>\n",
              "      <td>good_t_4.txt</td>\n",
              "      <td>bmh</td>\n",
              "      <td>0.000250</td>\n",
              "      <td>0.000243</td>\n",
              "      <td>0.000235</td>\n",
              "      <td>0.001099</td>\n",
              "      <td>1.720362e-09</td>\n",
              "    </tr>\n",
              "    <tr>\n",
              "      <th>31</th>\n",
              "      <td>bad_t_4.txt</td>\n",
              "      <td>bmh</td>\n",
              "      <td>0.003973</td>\n",
              "      <td>0.003913</td>\n",
              "      <td>0.003815</td>\n",
              "      <td>0.007251</td>\n",
              "      <td>1.325638e-07</td>\n",
              "    </tr>\n",
              "  </tbody>\n",
              "</table>\n",
              "</div>"
            ],
            "text/plain": [
              "            file      method      mean  ...       min       max      variance\n",
              "0   good_t_1.txt       naive  0.000171  ...  0.000152  0.001611  4.822995e-09\n",
              "1    bad_t_1.txt       naive  0.000005  ...  0.000004  0.000550  3.002665e-10\n",
              "2   good_t_1.txt  robin_carp  0.000394  ...  0.000380  0.000727  9.161041e-10\n",
              "3    bad_t_1.txt  robin_carp  0.000006  ...  0.000005  0.000016  1.826600e-12\n",
              "4   good_t_1.txt         kmp  0.000166  ...  0.000162  0.000246  3.674117e-11\n",
              "5    bad_t_1.txt         kmp  0.000006  ...  0.000005  0.000014  4.496294e-13\n",
              "6   good_t_1.txt         bmh  0.000436  ...  0.000416  0.000814  2.112062e-09\n",
              "7    bad_t_1.txt         bmh  0.000120  ...  0.000114  0.000268  2.537219e-10\n",
              "8   good_t_2.txt       naive  0.000264  ...  0.000258  0.000398  9.999618e-11\n",
              "9    bad_t_2.txt       naive  0.000134  ...  0.000131  0.000226  5.033158e-11\n",
              "10  good_t_2.txt  robin_carp  0.000646  ...  0.000630  0.001423  3.512361e-09\n",
              "11   bad_t_2.txt  robin_carp  0.000045  ...  0.000043  0.000089  2.440188e-11\n",
              "12  good_t_2.txt         kmp  0.000278  ...  0.000272  0.000368  7.242268e-11\n",
              "13   bad_t_2.txt         kmp  0.000054  ...  0.000051  0.000090  1.301971e-11\n",
              "14  good_t_2.txt         bmh  0.000231  ...  0.000210  0.000905  2.492317e-09\n",
              "15   bad_t_2.txt         bmh  0.000198  ...  0.000180  0.000815  2.047228e-09\n",
              "16  good_t_3.txt       naive  0.000796  ...  0.000766  0.001711  7.285907e-09\n",
              "17   bad_t_3.txt       naive  0.013689  ...  0.013412  0.023657  8.192041e-07\n",
              "18  good_t_3.txt  robin_carp  0.001930  ...  0.001898  0.003557  1.449692e-08\n",
              "19   bad_t_3.txt  robin_carp  0.000473  ...  0.000460  0.000910  1.243350e-09\n",
              "20  good_t_3.txt         kmp  0.000870  ...  0.000839  0.002474  9.660633e-09\n",
              "21   bad_t_3.txt         kmp  0.000542  ...  0.000522  0.001398  3.698306e-09\n",
              "22  good_t_3.txt         bmh  0.000155  ...  0.000148  0.000374  3.371669e-10\n",
              "23   bad_t_3.txt         bmh  0.000909  ...  0.000870  0.002086  5.654705e-09\n",
              "24  good_t_4.txt       naive  0.002597  ...  0.002515  0.004882  5.749469e-08\n",
              "25   bad_t_4.txt       naive  0.696272  ...  0.687717  0.725928  2.928640e-05\n",
              "26  good_t_4.txt  robin_carp  0.006187  ...  0.006044  0.010721  1.584163e-07\n",
              "27   bad_t_4.txt  robin_carp  0.002452  ...  0.002332  0.004530  3.276775e-08\n",
              "28  good_t_4.txt         kmp  0.003108  ...  0.003022  0.005781  5.828717e-08\n",
              "29   bad_t_4.txt         kmp  0.003392  ...  0.003296  0.006117  5.910159e-08\n",
              "30  good_t_4.txt         bmh  0.000250  ...  0.000235  0.001099  1.720362e-09\n",
              "31   bad_t_4.txt         bmh  0.003973  ...  0.003815  0.007251  1.325638e-07\n",
              "\n",
              "[32 rows x 7 columns]"
            ]
          },
          "metadata": {
            "tags": []
          },
          "execution_count": 127
        }
      ]
    },
    {
      "cell_type": "markdown",
      "metadata": {
        "id": "Udh2s-QeNLZi",
        "colab_type": "text"
      },
      "source": [
        "## Graphs comparison"
      ]
    },
    {
      "cell_type": "code",
      "metadata": {
        "id": "c0dyXkzPtP_U",
        "colab_type": "code",
        "colab": {}
      },
      "source": [
        "def plot_time_charts(time_df, files, methods = [naive, robin_carp, kmp, bmh], begin_index = 'method', end_index = 'max'):\n",
        "  methods_names = []\n",
        "  for method in methods:\n",
        "    methods_names.append(str(method.__name__))\n",
        "  for file in files:\n",
        "    df_concrete_file = time_df.loc[lambda df: (df['file'] == file), begin_index:end_index]\n",
        "    df_concrete_file_concrete_methods = df_concrete_file.loc[df_concrete_file['method'].isin(methods_names)]\n",
        "    df_concrete_file_concrete_methods.plot(kind ='bar', x='method', title = file, position = 1)"
      ],
      "execution_count": 0,
      "outputs": []
    },
    {
      "cell_type": "markdown",
      "metadata": {
        "id": "xPcXVHBh0Qr9",
        "colab_type": "text"
      },
      "source": [
        "### All methods"
      ]
    },
    {
      "cell_type": "code",
      "metadata": {
        "id": "mtDJxopTpOjx",
        "colab_type": "code",
        "outputId": "8a87fd66-554c-4cef-994c-7b0ace18ab49",
        "colab": {
          "base_uri": "https://localhost:8080/",
          "height": 1000
        }
      },
      "source": [
        "for i in range(0, len(good_files)):\n",
        "  plot_time_charts(time_df, files = [good_files[i], bad_files[i]])"
      ],
      "execution_count": 129,
      "outputs": [
        {
          "output_type": "display_data",
          "data": {
            "image/png": "[encoded data removed]",
            "text/plain": [
              "<Figure size 432x288 with 1 Axes>"
            ]
          },
          "metadata": {
            "tags": [],
            "needs_background": "light"
          }
        },
        {
          "output_type": "display_data",
          "data": {
            "image/png": "[encoded data removed]",
            "text/plain": [
              "<Figure size 432x288 with 1 Axes>"
            ]
          },
          "metadata": {
            "tags": [],
            "needs_background": "light"
          }
        },
        {
          "output_type": "display_data",
          "data": {
            "image/png": "[encoded data removed]",
            "text/plain": [
              "<Figure size 432x288 with 1 Axes>"
            ]
          },
          "metadata": {
            "tags": [],
            "needs_background": "light"
          }
        },
        {
          "output_type": "display_data",
          "data": {
            "image/png": "[encoded data removed]",
            "text/plain": [
              "<Figure size 432x288 with 1 Axes>"
            ]
          },
          "metadata": {
            "tags": [],
            "needs_background": "light"
          }
        },
        {
          "output_type": "display_data",
          "data": {
            "image/png": "[encoded data removed]",
            "text/plain": [
              "<Figure size 432x288 with 1 Axes>"
            ]
          },
          "metadata": {
            "tags": [],
            "needs_background": "light"
          }
        },
        {
          "output_type": "display_data",
          "data": {
            "image/png": "[encoded data removed]",
            "text/plain": [
              "<Figure size 432x288 with 1 Axes>"
            ]
          },
          "metadata": {
            "tags": [],
            "needs_background": "light"
          }
        },
        {
          "output_type": "display_data",
          "data": {
            "image/png": "[encoded data removed]",
            "text/plain": [
              "<Figure size 432x288 with 1 Axes>"
            ]
          },
          "metadata": {
            "tags": [],
            "needs_background": "light"
          }
        },
        {
          "output_type": "display_data",
          "data": {
            "image/png": "[encoded data removed]",
            "text/plain": [
              "<Figure size 432x288 with 1 Axes>"
            ]
          },
          "metadata": {
            "tags": [],
            "needs_background": "light"
          }
        }
      ]
    },
    {
      "cell_type": "markdown",
      "metadata": {
        "id": "rJWZnKIDsul9",
        "colab_type": "text"
      },
      "source": [
        "The largest bad case has significant improvements for non-trivial algorithms on naive one.\n",
        "What is the faster  among them?\n"
      ]
    },
    {
      "cell_type": "markdown",
      "metadata": {
        "id": "1hMMi1wv0VGU",
        "colab_type": "text"
      },
      "source": [
        "### Non-trivial methods"
      ]
    },
    {
      "cell_type": "code",
      "metadata": {
        "id": "MLmVTlE0t_Vi",
        "colab_type": "code",
        "outputId": "a510efb7-d498-4dc6-8d8c-1df620dedfc7",
        "colab": {
          "base_uri": "https://localhost:8080/",
          "height": 1000
        }
      },
      "source": [
        "non_trivial_methods = [robin_carp, kmp, bmh]\n",
        "plot_time_charts(time_df, files = bad_files, methods = non_trivial_methods)"
      ],
      "execution_count": 130,
      "outputs": [
        {
          "output_type": "display_data",
          "data": {
            "image/png": "[encoded data removed]",
            "text/plain": [
              "<Figure size 432x288 with 1 Axes>"
            ]
          },
          "metadata": {
            "tags": [],
            "needs_background": "light"
          }
        },
        {
          "output_type": "display_data",
          "data": {
            "image/png": "[encoded data removed]",
            "text/plain": [
              "<Figure size 432x288 with 1 Axes>"
            ]
          },
          "metadata": {
            "tags": [],
            "needs_background": "light"
          }
        },
        {
          "output_type": "display_data",
          "data": {
            "image/png": "[encoded data removed]",
            "text/plain": [
              "<Figure size 432x288 with 1 Axes>"
            ]
          },
          "metadata": {
            "tags": [],
            "needs_background": "light"
          }
        },
        {
          "output_type": "display_data",
          "data": {
            "image/png": "[encoded data removed]",
            "text/plain": [
              "<Figure size 432x288 with 1 Axes>"
            ]
          },
          "metadata": {
            "tags": [],
            "needs_background": "light"
          }
        }
      ]
    },
    {
      "cell_type": "markdown",
      "metadata": {
        "id": "PAP1ymiMxHNX",
        "colab_type": "text"
      },
      "source": [
        "**Robin carp algorithm shows better perfomance for all provided bad cases.**\n"
      ]
    },
    {
      "cell_type": "markdown",
      "metadata": {
        "id": "Jyzv2elDzEL3",
        "colab_type": "text"
      },
      "source": [
        "# Summary \n",
        "For easy cases, naive and BMH algorithm are better than others. For small ones naive has no overheads, that is the fastest one for small computattion flow. For longer cases, BMH takes its leadearship. \n",
        "\n",
        "For bad cases, Robin Carp algorithm has the fastest results between others. For large bad cases, it is starting to be clear, why other algorithms are exist, since their speed up is more than $100$ times."
      ]
    },
    {
      "cell_type": "markdown",
      "metadata": {
        "id": "r0FuScSRp8B6",
        "colab_type": "text"
      },
      "source": [
        "# Back UP\n",
        "Not for presentation.\n"
      ]
    },
    {
      "cell_type": "code",
      "metadata": {
        "id": "1DoS97PGAKZG",
        "colab_type": "code",
        "colab": {}
      },
      "source": [
        "import time\n",
        "import pandas as pd\n",
        "\n",
        "def get_time(num_iterations = 10, method = naive):\n",
        "    time_good_metrics = pd.DataFrame(columns=['median', 'min', 'max'])\n",
        "    time_bad_metrics = pd.DataFrame(columns=['median', 'min', 'max'])\n",
        "    for i in range(0,4):\n",
        "        time_good = []\n",
        "        time_bad = []\n",
        "        for j in range(0, num_iterations):\n",
        "            t0 = time.time()\n",
        "            method(good_patterns[i], good_texts[i])\n",
        "            t1 = time.time()\n",
        "            total = t1-t0\n",
        "            time_good.append(total)\n",
        "\n",
        "            t0 = time.time()\n",
        "            method(bad_patterns[i], bad_texts[i])\n",
        "            t1 = time.time()\n",
        "            total = t1-t0\n",
        "            time_bad.append(total)\n",
        "        time_good.sort()\n",
        "        time_bad.sort()\n",
        "        time_good_metrics.loc[i] = [time_good[int(num_iterations/2)], time_good[0], time_good[-1]]\n",
        "        time_bad_metrics.loc[i] = [time_bad[int(num_iterations/2)], time_bad[0], time_bad[-1]]\n",
        "    return time_good_metrics, time_bad_metrics"
      ],
      "execution_count": 0,
      "outputs": []
    },
    {
      "cell_type": "markdown",
      "metadata": {
        "id": "KNtotdq_6O1h",
        "colab_type": "text"
      },
      "source": [
        "## Naive time"
      ]
    },
    {
      "cell_type": "code",
      "metadata": {
        "id": "7uG_EVqd300-",
        "colab_type": "code",
        "outputId": "4b9669fe-0f6e-40b8-e348-8881c6e81e73",
        "colab": {
          "base_uri": "https://localhost:8080/",
          "height": 377
        }
      },
      "source": [
        "naive_good, naive_bad = get_time(num_iterations=100, method = naive)\n",
        "print('Good datasets')\n",
        "print(naive_good)\n",
        "print('Bad datasets')\n",
        "print(naive_bad)\n",
        "naive_good"
      ],
      "execution_count": 0,
      "outputs": [
        {
          "output_type": "stream",
          "text": [
            "Good datasets\n",
            "     median       min       max\n",
            "0  0.000169  0.000164  0.000422\n",
            "1  0.000287  0.000277  0.000739\n",
            "2  0.000833  0.000820  0.001558\n",
            "3  0.002691  0.002666  0.003244\n",
            "Bad datasets\n",
            "     median       min       max\n",
            "0  0.000004  0.000004  0.000009\n",
            "1  0.000143  0.000139  0.000276\n",
            "2  0.014317  0.014198  0.018284\n",
            "3  0.732984  0.724399  0.758936\n"
          ],
          "name": "stdout"
        },
        {
          "output_type": "execute_result",
          "data": {
            "text/html": [
              "<div>\n",
              "<style scoped>\n",
              "    .dataframe tbody tr th:only-of-type {\n",
              "        vertical-align: middle;\n",
              "    }\n",
              "\n",
              "    .dataframe tbody tr th {\n",
              "        vertical-align: top;\n",
              "    }\n",
              "\n",
              "    .dataframe thead th {\n",
              "        text-align: right;\n",
              "    }\n",
              "</style>\n",
              "<table border=\"1\" class=\"dataframe\">\n",
              "  <thead>\n",
              "    <tr style=\"text-align: right;\">\n",
              "      <th></th>\n",
              "      <th>median</th>\n",
              "      <th>min</th>\n",
              "      <th>max</th>\n",
              "    </tr>\n",
              "  </thead>\n",
              "  <tbody>\n",
              "    <tr>\n",
              "      <th>0</th>\n",
              "      <td>0.000169</td>\n",
              "      <td>0.000164</td>\n",
              "      <td>0.000422</td>\n",
              "    </tr>\n",
              "    <tr>\n",
              "      <th>1</th>\n",
              "      <td>0.000287</td>\n",
              "      <td>0.000277</td>\n",
              "      <td>0.000739</td>\n",
              "    </tr>\n",
              "    <tr>\n",
              "      <th>2</th>\n",
              "      <td>0.000833</td>\n",
              "      <td>0.000820</td>\n",
              "      <td>0.001558</td>\n",
              "    </tr>\n",
              "    <tr>\n",
              "      <th>3</th>\n",
              "      <td>0.002691</td>\n",
              "      <td>0.002666</td>\n",
              "      <td>0.003244</td>\n",
              "    </tr>\n",
              "  </tbody>\n",
              "</table>\n",
              "</div>"
            ],
            "text/plain": [
              "     median       min       max\n",
              "0  0.000169  0.000164  0.000422\n",
              "1  0.000287  0.000277  0.000739\n",
              "2  0.000833  0.000820  0.001558\n",
              "3  0.002691  0.002666  0.003244"
            ]
          },
          "metadata": {
            "tags": []
          },
          "execution_count": 20
        }
      ]
    },
    {
      "cell_type": "markdown",
      "metadata": {
        "id": "0iA3OVXS1Y4C",
        "colab_type": "text"
      },
      "source": [
        "##  Robin Carp time"
      ]
    },
    {
      "cell_type": "code",
      "metadata": {
        "id": "EbxmUSWk5cuu",
        "colab_type": "code",
        "outputId": "6821d340-f4c9-429f-d743-6ef9d377bbaf",
        "colab": {
          "base_uri": "https://localhost:8080/",
          "height": 204
        }
      },
      "source": [
        "rb_good, rb_bad = get_time(num_iterations=1000, method = robin_carp)\n",
        "print('Good datasets')\n",
        "print(rb_good)\n",
        "print(rb_bad)"
      ],
      "execution_count": 0,
      "outputs": [
        {
          "output_type": "stream",
          "text": [
            "Good datasets\n",
            "     median       min       max\n",
            "0  0.000417  0.000403  0.001417\n",
            "1  0.000681  0.000664  0.001235\n",
            "2  0.002054  0.002006  0.003875\n",
            "3  0.006923  0.006768  0.011827\n",
            "     median       min       max\n",
            "0  0.000006  0.000006  0.000035\n",
            "1  0.000047  0.000046  0.000132\n",
            "2  0.000499  0.000489  0.001144\n",
            "3  0.002717  0.002686  0.004897\n"
          ],
          "name": "stdout"
        }
      ]
    },
    {
      "cell_type": "markdown",
      "metadata": {
        "id": "Ids3B-Ch5u8L",
        "colab_type": "text"
      },
      "source": [
        "## Knuth Morris Pratt time"
      ]
    },
    {
      "cell_type": "code",
      "metadata": {
        "id": "-8-QW5mr5uHd",
        "colab_type": "code",
        "outputId": "55dda24b-b036-4021-d9d0-e0654dda1e12",
        "colab": {
          "base_uri": "https://localhost:8080/",
          "height": 221
        }
      },
      "source": [
        "kmp_good, kmp_bad = get_time(num_iterations=1000, method = kmp)\n",
        "print('Good datasets')\n",
        "print(kmp_good)\n",
        "print('Bad datasets')\n",
        "print(kmp_bad)"
      ],
      "execution_count": 0,
      "outputs": [
        {
          "output_type": "stream",
          "text": [
            "Good datasets\n",
            "     median       min       max\n",
            "0  0.000177  0.000172  0.002002\n",
            "1  0.000297  0.000291  0.000581\n",
            "2  0.000911  0.000896  0.001765\n",
            "3  0.003226  0.003197  0.006072\n",
            "Bad datasets\n",
            "     median       min       max\n",
            "0  0.000006  0.000006  0.000076\n",
            "1  0.000059  0.000058  0.000115\n",
            "2  0.000573  0.000562  0.001113\n",
            "3  0.003541  0.003500  0.006542\n"
          ],
          "name": "stdout"
        }
      ]
    },
    {
      "cell_type": "markdown",
      "metadata": {
        "id": "dvKYVvuMQvED",
        "colab_type": "text"
      },
      "source": [
        "## BMH time"
      ]
    },
    {
      "cell_type": "code",
      "metadata": {
        "id": "Mp8WyvsfQxb7",
        "colab_type": "code",
        "outputId": "62d4f52c-eb01-4d93-f6a7-e5ff19ee9bae",
        "colab": {
          "base_uri": "https://localhost:8080/",
          "height": 221
        }
      },
      "source": [
        "bmh_good, bmh_bad = get_time(num_iterations=10, method = bmh)\n",
        "print('Good datasets')\n",
        "print(bmh_good)\n",
        "bmh_good\n",
        "bmh_bad\n",
        "print('Bad datasets')\n",
        "print(bmh_bad)"
      ],
      "execution_count": 0,
      "outputs": [
        {
          "output_type": "stream",
          "text": [
            "Good datasets\n",
            "     median       min       max\n",
            "0  0.000445  0.000433  0.000655\n",
            "1  0.000238  0.000230  0.000280\n",
            "2  0.000172  0.000168  0.000209\n",
            "3  0.000292  0.000266  0.000626\n",
            "Bad datasets\n",
            "     median       min       max\n",
            "0  0.000135  0.000131  0.000152\n",
            "1  0.000206  0.000199  0.000234\n",
            "2  0.000917  0.000907  0.000995\n",
            "3  0.004020  0.003903  0.006197\n"
          ],
          "name": "stdout"
        }
      ]
    },
    {
      "cell_type": "code",
      "metadata": {
        "id": "QONH6GPDQ-Eb",
        "colab_type": "code",
        "colab": {}
      },
      "source": [
        ""
      ],
      "execution_count": 0,
      "outputs": []
    }
  ]
}