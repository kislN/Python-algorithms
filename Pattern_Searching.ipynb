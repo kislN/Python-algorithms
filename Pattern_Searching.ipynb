{
  "nbformat": 4,
  "nbformat_minor": 0,
  "metadata": {
    "colab": {
      "name": "Pattern_Searching.ipynb",
      "provenance": [],
      "collapsed_sections": [],
      "toc_visible": true
    },
    "kernelspec": {
      "name": "python3",
      "display_name": "Python 3"
    }
  },
  "cells": [
    {
      "cell_type": "markdown",
      "metadata": {
        "id": "fH65NBto1Jz1",
        "colab_type": "text"
      },
      "source": [
        "# Pattern search implementations"
      ]
    },
    {
      "cell_type": "markdown",
      "metadata": {
        "id": "zMRObsXQYFHG",
        "colab_type": "text"
      },
      "source": [
        "## Naive algorithm"
      ]
    },
    {
      "cell_type": "markdown",
      "metadata": {
        "id": "dfB4NbIFYXXM",
        "colab_type": "text"
      },
      "source": [
        "The Naive String Matching algorithm slides the pattern one by one. After each slide, it one by one checks characters at the current shift and if all characters match then prints the match.\n",
        "vector<int> naiveStringMatcher(t : string, p : string):\n",
        "   int n = t.length\n",
        "   int m = p.length\n",
        "   vector<int> ans\n",
        "   for i = 0 to n - m\n",
        "      if t[i .. i + m - 1] == p\n",
        "         ans.push_back(i)\n",
        "   return ans"
      ]
    },
    {
      "cell_type": "code",
      "metadata": {
        "id": "HE51h4sYiwcz",
        "colab_type": "code",
        "colab": {}
      },
      "source": [
        "def naive(pattern, text):\n",
        "    entries = []\n",
        "    if len(pattern) > len(text):\n",
        "        return entries\n",
        "    for text_index in range(len(text) - len(pattern) + 1):\n",
        "        pattern_index = 0\n",
        "        while(pattern_index < len(pattern)): \n",
        "            if (text[text_index + pattern_index] != pattern[pattern_index]): \n",
        "                break\n",
        "            pattern_index += 1\n",
        "        if pattern_index is len(pattern):\n",
        "            entries.append(text_index)\n",
        "    return entries\n"
      ],
      "execution_count": 0,
      "outputs": []
    },
    {
      "cell_type": "markdown",
      "metadata": {
        "id": "iMmQD-2gkp_M",
        "colab_type": "text"
      },
      "source": [
        "Small test for naive algorithm."
      ]
    },
    {
      "cell_type": "code",
      "metadata": {
        "id": "nwYYVo0ekpda",
        "colab_type": "code",
        "outputId": "0d217c38-8590-42ea-c63d-507224baa835",
        "colab": {
          "base_uri": "https://localhost:8080/",
          "height": 34
        }
      },
      "source": [
        "text_test = 'ohoh;oh Fuck, oh, oh fucj, Fuck Fuuuuck   shiiit oh'\n",
        "pattern_test = 'oh'\n",
        "indexes_test = naive(pattern_test,text_test)\n",
        "print(indexes_test)"
      ],
      "execution_count": 0,
      "outputs": [
        {
          "output_type": "stream",
          "text": [
            "[0, 2, 5, 14, 18, 49]\n"
          ],
          "name": "stdout"
        }
      ]
    },
    {
      "cell_type": "markdown",
      "metadata": {
        "id": "y8WIQae2ZRTb",
        "colab_type": "text"
      },
      "source": [
        "## Rabin-Karp algorithm"
      ]
    },
    {
      "cell_type": "markdown",
      "metadata": {
        "id": "hAyN56GAZPrU",
        "colab_type": "text"
      },
      "source": [
        "Like the Naive Algorithm, Rabin-Karp algorithm also slides the pattern one by one. But unlike the Naive algorithm, Rabin Karp algorithm matches the hash value of the pattern with the hash value of current substring of text, and if the hash values match then only it starts matching individual characters. \n",
        " \n",
        "\n",
        "So Rabin Karp algorithm needs to calculate hash values for following strings. \n",
        "Hash at the next shift must be efficiently computable from the current hash value and next character in text or we can say hash(txt[s+1 .. s+m]) must be efficiently computable from $hash(txt[s .. s+m-1])$ and $txt[s+m]$ i.e., $hash(txt[s+1 .. s+m])= rehash(txt[s+m]$, $hash(txt[s .. s+m-1]))$ and rehash must be O(1) operation.\n",
        "\n",
        "The hash function suggested by Rabin and Karp calculates an integer value. The integer value for a string is numeric value of a string. For example, if all possible characters are from $1$ to $10$, the numeric value of “122” will be $122$. The number of possible characters is higher than $10$ ($256$ in general) and pattern length can be large. So the numeric values cannot be practically stored as an integer. Therefore, the numeric value is calculated using modular arithmetic to make sure that the hash values can be stored in an integer variable (can fit in memory words)"
      ]
    },
    {
      "cell_type": "code",
      "metadata": {
        "id": "wlMsogoLmy2n",
        "colab_type": "code",
        "colab": {}
      },
      "source": [
        "def robin_carp(pattern, text):\n",
        "    entries = []\n",
        "    if len(pattern) > len(text):\n",
        "        return entries \n",
        "    hash_pattern = 0    # hash value for pattern \n",
        "    hash_text = 0    # hash value for txt \n",
        "    h = 1 # hash init\n",
        "    d = 256 # is the number of characters in the input alphabet\n",
        "    q = 977 # TODO compute it from args sizes\n",
        "    for i in range(len(pattern) - 1): \n",
        "        h = (h * d) % q \n",
        "  \n",
        "    # hash by module q\n",
        "    for i in range(len(pattern)): \n",
        "        hash_pattern = (d * hash_pattern + ord(pattern[i])) % q \n",
        "        hash_text = (d * hash_text + ord(text[i])) % q \n",
        "\n",
        "    # Slide the pattern over text one by one \n",
        "    for i in range(len(text) - len(pattern) + 1): \n",
        "        # Check the hash values of current window\n",
        "        if hash_pattern is hash_text: \n",
        "            for j in range(len(pattern)): \n",
        "                if text[i+j] != pattern[j]: \n",
        "                    break\n",
        "            if j + 1 == len(pattern): \n",
        "                entries.append(i)\n",
        "  \n",
        "        # Calculate hash value for next window of text: Remove \n",
        "        # leading digit, add trailing digit \n",
        "        if i < len(text) - len(pattern): \n",
        "            hash_text = (d * (hash_text - ord(text[i]) * h) + ord(text[i + len(pattern)])) % q \n",
        "            # We might get negative values of t\n",
        "            if hash_text < 0: \n",
        "                hash_text = hash_text + q \n",
        "    return entries"
      ],
      "execution_count": 0,
      "outputs": []
    },
    {
      "cell_type": "markdown",
      "metadata": {
        "id": "gZzDl_Uem0dt",
        "colab_type": "text"
      },
      "source": [
        "Small test for Robin-Carp algorithm."
      ]
    },
    {
      "cell_type": "code",
      "metadata": {
        "id": "MbAan_-8m45Z",
        "colab_type": "code",
        "outputId": "4669d812-40cc-45da-fdea-440ec670f840",
        "colab": {
          "base_uri": "https://localhost:8080/",
          "height": 34
        }
      },
      "source": [
        "text_test = 'ohoh;oh Fuck, oh, oh fucj, Fuck Fuuuuck   shiiit oh'\n",
        "pattern_test = 'oh'\n",
        "#text_test = 'aaaaaaaaaaa'\n",
        "#pattern_test = 'a'\n",
        "indexes_test = robin_carp(pattern_test, text_test)\n",
        "print(indexes_test)"
      ],
      "execution_count": 0,
      "outputs": [
        {
          "output_type": "stream",
          "text": [
            "[0, 2, 5, 14, 18, 49]\n"
          ],
          "name": "stdout"
        }
      ]
    },
    {
      "cell_type": "markdown",
      "metadata": {
        "id": "og4bdWHdOYbH",
        "colab_type": "text"
      },
      "source": [
        "## Knuth Morris Pratt algorithm"
      ]
    },
    {
      "cell_type": "markdown",
      "metadata": {
        "id": "MjLpKld-YUb1",
        "colab_type": "text"
      },
      "source": [
        "The Naive pattern searching algorithm does not work well in cases where we see many matching characters followed by a mismatching character. \n",
        "\n",
        "The KMP matching algorithm uses degenerating property (pattern having same sub-patterns appearing more than once in the pattern) of the pattern and improves the worst case complexity to $O(n)$. The basic idea behind KMP’s algorithm is: whenever we detect a mismatch (after some matches), we already know some of the characters in the text of the next window. We take advantage of this information to avoid matching the characters that we know will anyway match. "
      ]
    },
    {
      "cell_type": "code",
      "metadata": {
        "id": "PL6P8x1nOf8B",
        "colab_type": "code",
        "colab": {}
      },
      "source": [
        "def prefix(string):\n",
        "    prefix_function = [0] * len(string)\n",
        "    for i in range(1,len(string)):\n",
        "        k = prefix_function[i-1]\n",
        "        while k > 0 and string[k] != string[i]:\n",
        "            k = prefix_function[k-1]\n",
        "        if string[k] == string[i]:\n",
        "            k = k + 1\n",
        "        prefix_function[i] = k\n",
        "    return prefix_function\n",
        "\n",
        "def kmp(pattern, text):\n",
        "    entries = []\n",
        "    if len(pattern) > len(text):\n",
        "        return entries\n",
        "    prefix_function = prefix(pattern)\n",
        "    text_index = pattern_index = 0\n",
        "    while text_index < len(text) and pattern_index < len(pattern):\n",
        "        if text[text_index] == pattern[pattern_index]:\n",
        "            if pattern_index == len(pattern) - 1:\n",
        "                entries.append(text_index - len(pattern) + 1)\n",
        "                pattern_index = 0\n",
        "            else:\n",
        "                pattern_index += 1\n",
        "            text_index += 1\n",
        "        elif pattern_index is not 0:     \n",
        "            pattern_index = prefix_function[pattern_index-1]\n",
        "        else:\n",
        "            text_index += 1\n",
        "    return entries"
      ],
      "execution_count": 0,
      "outputs": []
    },
    {
      "cell_type": "markdown",
      "metadata": {
        "id": "tRwB0kHpiIUA",
        "colab_type": "text"
      },
      "source": [
        "Small test for KMP algorithm."
      ]
    },
    {
      "cell_type": "code",
      "metadata": {
        "id": "sTAfvqHpQsxW",
        "colab_type": "code",
        "outputId": "6f95c7fe-ab9b-4d95-a661-16832beae5e4",
        "colab": {
          "base_uri": "https://localhost:8080/",
          "height": 34
        }
      },
      "source": [
        "text_test = 'ohoh;oh Fuck, oh, oh fucj, Fuck Fuuuuck   shiiit oh'\n",
        "pattern_test = 'oh'\n",
        "indexes_test = kmp(pattern_test,text_test)\n",
        "print(indexes_test)"
      ],
      "execution_count": 0,
      "outputs": [
        {
          "output_type": "stream",
          "text": [
            "[0, 2, 5, 14, 18, 49]\n"
          ],
          "name": "stdout"
        }
      ]
    },
    {
      "cell_type": "markdown",
      "metadata": {
        "id": "hQKU01ibPqy9",
        "colab_type": "text"
      },
      "source": [
        "## Boyer–Moore–Horspool algorithm"
      ]
    },
    {
      "cell_type": "code",
      "metadata": {
        "id": "u8hnqoFFPqId",
        "colab_type": "code",
        "colab": {}
      },
      "source": [
        "from copy import deepcopy\n",
        "\n",
        "def get_int_image(x):\n",
        "    image_dict = {}\n",
        "    length = len(x)\n",
        "    for idx, char in enumerate(x[:-1], start=1):\n",
        "        # if char not in image_dict:\n",
        "        image_dict[char] = length-idx\n",
        "\n",
        "    if x[-1] not in image_dict:\n",
        "        image_dict[x[-1]] = length\n",
        "\n",
        "    image_dict['other'] = length\n",
        "\n",
        "    return image_dict\n",
        "\n",
        "\n",
        "def bmh(pattern, text):\n",
        "    entries = []\n",
        "    if len(pattern) > len(text):\n",
        "        return entries\n",
        "    image_dict = get_int_image(pattern)\n",
        "    length_text = len(text)\n",
        "    length_pattern = image_dict['other']\n",
        "    i = length_pattern  # for text\n",
        "    j = length_pattern  # for pattern\n",
        "    entry_point = length_pattern  # for position in full string\n",
        "    while i <= length_text:\n",
        "        if text[i-1] == pattern[j-1] and j>0:\n",
        "            i -= 1\n",
        "            j -= 1\n",
        "        else:\n",
        "            if j == 0:\n",
        "                entries.append(entry_point - length_pattern)\n",
        "            try:\n",
        "                entry_point += image_dict[text[i-1]]\n",
        "            except:\n",
        "                entry_point += image_dict['other']\n",
        "            i = deepcopy(entry_point)\n",
        "            j = length_pattern\n",
        "    return entries\n"
      ],
      "execution_count": 0,
      "outputs": []
    },
    {
      "cell_type": "code",
      "metadata": {
        "id": "cStqXeKcQhEt",
        "colab_type": "code",
        "outputId": "4d3ef64d-9e69-4276-b309-7de353979bca",
        "colab": {
          "base_uri": "https://localhost:8080/",
          "height": 34
        }
      },
      "source": [
        "text_test = 'ohoh;oh Fuck, oh, oh fucj, Fuck Fuuuuck   shiiit oh'\n",
        "pattern_test = 'oh'\n",
        "indexes_test = bmh(pattern_test,text_test)\n",
        "print(indexes_test)"
      ],
      "execution_count": 0,
      "outputs": [
        {
          "output_type": "stream",
          "text": [
            "[0, 2, 5, 14, 18, 49]\n"
          ],
          "name": "stdout"
        }
      ]
    },
    {
      "cell_type": "markdown",
      "metadata": {
        "id": "4MZ1cR73Pqd7",
        "colab_type": "text"
      },
      "source": [
        ""
      ]
    },
    {
      "cell_type": "markdown",
      "metadata": {
        "id": "0vLCSVEP1Upi",
        "colab_type": "text"
      },
      "source": [
        "# Bencmarking"
      ]
    },
    {
      "cell_type": "code",
      "metadata": {
        "id": "bNE3mx5n_qkz",
        "colab_type": "code",
        "outputId": "d0debd36-c561-4943-c649-2e0db754237d",
        "colab": {
          "base_uri": "https://localhost:8080/",
          "height": 139
        }
      },
      "source": [
        "from google.colab import drive # import drive from google colab\n",
        "\n",
        "ROOT = \"/content/drive\"     # default location for the drive\n",
        "print(ROOT)                 # print content of ROOT (Optional)\n",
        "\n",
        "drive.mount(ROOT)           # we mount the google drive at /content/drive\n",
        "\n",
        "BENCH_DIR = ROOT + '/My Drive/benchmark_pattern_search'"
      ],
      "execution_count": 0,
      "outputs": [
        {
          "output_type": "stream",
          "text": [
            "/content/drive\n",
            "Go to this URL in a browser: https://accounts.google.com/o/oauth2/auth?client_id=947318989803-6bn6qk8qdgf4n4g3pfee6491hc0brc4i.apps.googleusercontent.com&redirect_uri=urn%3aietf%3awg%3aoauth%3a2.0%3aoob&response_type=code&scope=email%20https%3a%2f%2fwww.googleapis.com%2fauth%2fdocs.test%20https%3a%2f%2fwww.googleapis.com%2fauth%2fdrive%20https%3a%2f%2fwww.googleapis.com%2fauth%2fdrive.photos.readonly%20https%3a%2f%2fwww.googleapis.com%2fauth%2fpeopleapi.readonly\n",
            "\n",
            "Enter your authorization code:\n",
            "··········\n",
            "Mounted at /content/drive\n"
          ],
          "name": "stdout"
        }
      ]
    },
    {
      "cell_type": "code",
      "metadata": {
        "id": "Sz0htXAh1at3",
        "colab_type": "code",
        "colab": {}
      },
      "source": [
        "all_methods = [naive, robin_carp, kmp, bmh]\n",
        "bad_patterns = []\n",
        "bad_texts = []\n",
        "good_patterns = []\n",
        "good_texts = []\n",
        "bad_files = []\n",
        "good_files = []\n",
        "for i in range(1,5):\n",
        "    bad_files.append('bad_t_' + str(i) +'.txt')\n",
        "    good_files.append( 'good_t_' + str(i) +'.txt')\n",
        "\n",
        "    with open(BENCH_DIR + '/' + bad_files[-1], 'r') as file:\n",
        "        bad_texts.append(file.read())\n",
        "    with open(BENCH_DIR + '/bad_w_' + str(i) +'.txt', 'r') as file:\n",
        "        bad_patterns.append(file.read())\n",
        "    with open(BENCH_DIR + '/' +good_files[-1], 'r') as file:\n",
        "        good_texts.append(file.read())\n",
        "    with open(BENCH_DIR + '/bad_w_' + str(i) +'.txt', 'r') as file:\n",
        "        good_patterns.append(file.read())\n"
      ],
      "execution_count": 0,
      "outputs": []
    },
    {
      "cell_type": "markdown",
      "metadata": {
        "id": "x9SrMnK47uQ3",
        "colab_type": "text"
      },
      "source": [
        "## Time metrics  \n",
        "Different time metrics computing"
      ]
    },
    {
      "cell_type": "code",
      "metadata": {
        "id": "NzO_-A9i747R",
        "colab_type": "code",
        "colab": {}
      },
      "source": [
        "import math \n",
        "\n",
        "def get_median(time_list, sorted = True):\n",
        "    if len(time_list) is 0:\n",
        "        return NaN\n",
        "    if not sorted:\n",
        "        time_list.sort()\n",
        "    if len(time_list) % 2 == 0:\n",
        "        return (time_list[int(len(time_list)/2)] + time_list[int(1 + len(time_list)/2)]) / 2\n",
        "    else:\n",
        "        return time_list[len(time_list)/2]\n",
        "\n",
        "\n",
        "def get_min(time_list, sorted = True):\n",
        "    if len(time_list) is 0:\n",
        "        return NaN \n",
        "    if not sorted:\n",
        "        time_list.sort()  \n",
        "    return time_list[0]\n",
        "\n",
        "\n",
        "def get_max(time_list, sorted = True):\n",
        "    if len(time_list) is 0:\n",
        "        return NaN \n",
        "    if not sorted:\n",
        "        time_list.sort()  \n",
        "    return time_list[-1]\n",
        "\n",
        "def get_variance(time_list):\n",
        "    if len(time_list) is 0:\n",
        "        return NaN \n",
        "    mean = sum(time_list) / len(time_list) \n",
        "    variance = sum([((x - mean) ** 2) for x in time_list]) / len(time_list)\n",
        "    return variance\n",
        "\n",
        "def get_mean(time_list):\n",
        "    if len(time_list) is 0:\n",
        "        return NaN \n",
        "    mean = sum(time_list) / len(time_list) \n",
        "    return mean"
      ],
      "execution_count": 0,
      "outputs": []
    },
    {
      "cell_type": "markdown",
      "metadata": {
        "id": "bynHsC4d55ek",
        "colab_type": "text"
      },
      "source": [
        "## Time dfs\n",
        "Function for collecting data frames containing median, min and max values of selected methods run time both for bad and good datasets."
      ]
    },
    {
      "cell_type": "code",
      "metadata": {
        "id": "KXlECA8e4I7O",
        "colab_type": "code",
        "colab": {}
      },
      "source": [
        "import time\n",
        "import pandas as pd\n",
        "\n",
        "def get_time_df(num_iterations = 10, methods = [naive], len_cases = 4 ):\n",
        "    time_total = pd.DataFrame(columns=['file', 'method', 'mean', 'median', 'min', 'max', 'variance'])\n",
        "    df_index = 0\n",
        "    for i in range(0, len_cases):\n",
        "        for method in methods:\n",
        "            time_good = []\n",
        "            time_bad = []\n",
        "            for j in range(0, num_iterations):\n",
        "                t0 = time.time()\n",
        "                method(good_patterns[i], good_texts[i])\n",
        "                t1 = time.time()\n",
        "                total = t1-t0\n",
        "                time_good.append(total)\n",
        "\n",
        "                t0 = time.time()\n",
        "                method(bad_patterns[i], bad_texts[i])\n",
        "                t1 = time.time()\n",
        "                total = t1-t0\n",
        "                time_bad.append(total)\n",
        "            time_good.sort()\n",
        "            time_bad.sort()\n",
        "            time_total.loc[df_index] = [good_files[i], str(method.__name__), get_mean(time_good),\n",
        "                                         get_median(time_good), get_min(time_good), get_max(time_good), get_variance(time_good)]\n",
        "            time_total.loc[df_index + 1] = [bad_files[i], str(method.__name__), get_mean(time_bad),\n",
        "                                             get_median(time_bad), get_min(time_bad), get_max(time_bad), get_variance(time_bad)]\n",
        "            df_index += 2\n",
        "    return time_total"
      ],
      "execution_count": 0,
      "outputs": []
    },
    {
      "cell_type": "markdown",
      "metadata": {
        "id": "h3Z0z3gdM7BH",
        "colab_type": "text"
      },
      "source": [
        "## Run time statistic for all methods"
      ]
    },
    {
      "cell_type": "code",
      "metadata": {
        "id": "f3d_XJRp5uHX",
        "colab_type": "code",
        "outputId": "56c1b842-6603-408e-a0f8-ce87791bb9c9",
        "colab": {
          "base_uri": "https://localhost:8080/",
          "height": 1000
        }
      },
      "source": [
        "time_df = get_time_df(num_iterations=100, methods = all_methods)\n",
        "time_df"
      ],
      "execution_count": 0,
      "outputs": [
        {
          "output_type": "execute_result",
          "data": {
            "text/html": [
              "<div>\n",
              "<style scoped>\n",
              "    .dataframe tbody tr th:only-of-type {\n",
              "        vertical-align: middle;\n",
              "    }\n",
              "\n",
              "    .dataframe tbody tr th {\n",
              "        vertical-align: top;\n",
              "    }\n",
              "\n",
              "    .dataframe thead th {\n",
              "        text-align: right;\n",
              "    }\n",
              "</style>\n",
              "<table border=\"1\" class=\"dataframe\">\n",
              "  <thead>\n",
              "    <tr style=\"text-align: right;\">\n",
              "      <th></th>\n",
              "      <th>file</th>\n",
              "      <th>method</th>\n",
              "      <th>mean</th>\n",
              "      <th>median</th>\n",
              "      <th>min</th>\n",
              "      <th>max</th>\n",
              "      <th>variance</th>\n",
              "    </tr>\n",
              "  </thead>\n",
              "  <tbody>\n",
              "    <tr>\n",
              "      <th>0</th>\n",
              "      <td>good_t_1.txt</td>\n",
              "      <td>naive</td>\n",
              "      <td>0.000165</td>\n",
              "      <td>0.000162</td>\n",
              "      <td>0.000160</td>\n",
              "      <td>0.000196</td>\n",
              "      <td>4.412927e-11</td>\n",
              "    </tr>\n",
              "    <tr>\n",
              "      <th>1</th>\n",
              "      <td>bad_t_1.txt</td>\n",
              "      <td>naive</td>\n",
              "      <td>0.000004</td>\n",
              "      <td>0.000004</td>\n",
              "      <td>0.000004</td>\n",
              "      <td>0.000007</td>\n",
              "      <td>1.072010e-13</td>\n",
              "    </tr>\n",
              "    <tr>\n",
              "      <th>2</th>\n",
              "      <td>good_t_1.txt</td>\n",
              "      <td>robin_carp</td>\n",
              "      <td>0.000466</td>\n",
              "      <td>0.000455</td>\n",
              "      <td>0.000399</td>\n",
              "      <td>0.000748</td>\n",
              "      <td>3.538786e-09</td>\n",
              "    </tr>\n",
              "    <tr>\n",
              "      <th>3</th>\n",
              "      <td>bad_t_1.txt</td>\n",
              "      <td>robin_carp</td>\n",
              "      <td>0.000008</td>\n",
              "      <td>0.000007</td>\n",
              "      <td>0.000006</td>\n",
              "      <td>0.000015</td>\n",
              "      <td>3.303029e-12</td>\n",
              "    </tr>\n",
              "    <tr>\n",
              "      <th>4</th>\n",
              "      <td>good_t_1.txt</td>\n",
              "      <td>kmp</td>\n",
              "      <td>0.000175</td>\n",
              "      <td>0.000173</td>\n",
              "      <td>0.000169</td>\n",
              "      <td>0.000186</td>\n",
              "      <td>1.082128e-11</td>\n",
              "    </tr>\n",
              "    <tr>\n",
              "      <th>5</th>\n",
              "      <td>bad_t_1.txt</td>\n",
              "      <td>kmp</td>\n",
              "      <td>0.000006</td>\n",
              "      <td>0.000006</td>\n",
              "      <td>0.000006</td>\n",
              "      <td>0.000010</td>\n",
              "      <td>2.926072e-13</td>\n",
              "    </tr>\n",
              "    <tr>\n",
              "      <th>6</th>\n",
              "      <td>good_t_1.txt</td>\n",
              "      <td>bmh</td>\n",
              "      <td>0.000383</td>\n",
              "      <td>0.000380</td>\n",
              "      <td>0.000372</td>\n",
              "      <td>0.000433</td>\n",
              "      <td>1.414009e-10</td>\n",
              "    </tr>\n",
              "    <tr>\n",
              "      <th>7</th>\n",
              "      <td>bad_t_1.txt</td>\n",
              "      <td>bmh</td>\n",
              "      <td>0.000011</td>\n",
              "      <td>0.000010</td>\n",
              "      <td>0.000009</td>\n",
              "      <td>0.000116</td>\n",
              "      <td>1.135315e-10</td>\n",
              "    </tr>\n",
              "    <tr>\n",
              "      <th>8</th>\n",
              "      <td>good_t_2.txt</td>\n",
              "      <td>naive</td>\n",
              "      <td>0.000276</td>\n",
              "      <td>0.000274</td>\n",
              "      <td>0.000268</td>\n",
              "      <td>0.000406</td>\n",
              "      <td>2.122528e-10</td>\n",
              "    </tr>\n",
              "    <tr>\n",
              "      <th>9</th>\n",
              "      <td>bad_t_2.txt</td>\n",
              "      <td>naive</td>\n",
              "      <td>0.000138</td>\n",
              "      <td>0.000136</td>\n",
              "      <td>0.000135</td>\n",
              "      <td>0.000169</td>\n",
              "      <td>2.517197e-11</td>\n",
              "    </tr>\n",
              "    <tr>\n",
              "      <th>10</th>\n",
              "      <td>good_t_2.txt</td>\n",
              "      <td>robin_carp</td>\n",
              "      <td>0.000689</td>\n",
              "      <td>0.000680</td>\n",
              "      <td>0.000648</td>\n",
              "      <td>0.001251</td>\n",
              "      <td>3.433216e-09</td>\n",
              "    </tr>\n",
              "    <tr>\n",
              "      <th>11</th>\n",
              "      <td>bad_t_2.txt</td>\n",
              "      <td>robin_carp</td>\n",
              "      <td>0.000049</td>\n",
              "      <td>0.000048</td>\n",
              "      <td>0.000046</td>\n",
              "      <td>0.000086</td>\n",
              "      <td>2.874910e-11</td>\n",
              "    </tr>\n",
              "    <tr>\n",
              "      <th>12</th>\n",
              "      <td>good_t_2.txt</td>\n",
              "      <td>kmp</td>\n",
              "      <td>0.000300</td>\n",
              "      <td>0.000296</td>\n",
              "      <td>0.000283</td>\n",
              "      <td>0.000395</td>\n",
              "      <td>2.413610e-10</td>\n",
              "    </tr>\n",
              "    <tr>\n",
              "      <th>13</th>\n",
              "      <td>bad_t_2.txt</td>\n",
              "      <td>kmp</td>\n",
              "      <td>0.000058</td>\n",
              "      <td>0.000056</td>\n",
              "      <td>0.000055</td>\n",
              "      <td>0.000096</td>\n",
              "      <td>3.799807e-11</td>\n",
              "    </tr>\n",
              "    <tr>\n",
              "      <th>14</th>\n",
              "      <td>good_t_2.txt</td>\n",
              "      <td>bmh</td>\n",
              "      <td>0.000130</td>\n",
              "      <td>0.000126</td>\n",
              "      <td>0.000125</td>\n",
              "      <td>0.000233</td>\n",
              "      <td>1.403411e-10</td>\n",
              "    </tr>\n",
              "    <tr>\n",
              "      <th>15</th>\n",
              "      <td>bad_t_2.txt</td>\n",
              "      <td>bmh</td>\n",
              "      <td>0.000076</td>\n",
              "      <td>0.000074</td>\n",
              "      <td>0.000073</td>\n",
              "      <td>0.000115</td>\n",
              "      <td>3.242860e-11</td>\n",
              "    </tr>\n",
              "    <tr>\n",
              "      <th>16</th>\n",
              "      <td>good_t_3.txt</td>\n",
              "      <td>naive</td>\n",
              "      <td>0.000817</td>\n",
              "      <td>0.000809</td>\n",
              "      <td>0.000799</td>\n",
              "      <td>0.001360</td>\n",
              "      <td>3.107374e-09</td>\n",
              "    </tr>\n",
              "    <tr>\n",
              "      <th>17</th>\n",
              "      <td>bad_t_3.txt</td>\n",
              "      <td>naive</td>\n",
              "      <td>0.014071</td>\n",
              "      <td>0.013920</td>\n",
              "      <td>0.013853</td>\n",
              "      <td>0.019694</td>\n",
              "      <td>5.561547e-07</td>\n",
              "    </tr>\n",
              "    <tr>\n",
              "      <th>18</th>\n",
              "      <td>good_t_3.txt</td>\n",
              "      <td>robin_carp</td>\n",
              "      <td>0.002030</td>\n",
              "      <td>0.002021</td>\n",
              "      <td>0.002012</td>\n",
              "      <td>0.002202</td>\n",
              "      <td>8.894086e-10</td>\n",
              "    </tr>\n",
              "    <tr>\n",
              "      <th>19</th>\n",
              "      <td>bad_t_3.txt</td>\n",
              "      <td>robin_carp</td>\n",
              "      <td>0.000511</td>\n",
              "      <td>0.000510</td>\n",
              "      <td>0.000492</td>\n",
              "      <td>0.000555</td>\n",
              "      <td>7.081746e-11</td>\n",
              "    </tr>\n",
              "    <tr>\n",
              "      <th>20</th>\n",
              "      <td>good_t_3.txt</td>\n",
              "      <td>kmp</td>\n",
              "      <td>0.000913</td>\n",
              "      <td>0.000910</td>\n",
              "      <td>0.000879</td>\n",
              "      <td>0.001014</td>\n",
              "      <td>2.864927e-10</td>\n",
              "    </tr>\n",
              "    <tr>\n",
              "      <th>21</th>\n",
              "      <td>bad_t_3.txt</td>\n",
              "      <td>kmp</td>\n",
              "      <td>0.000567</td>\n",
              "      <td>0.000563</td>\n",
              "      <td>0.000546</td>\n",
              "      <td>0.000735</td>\n",
              "      <td>4.251293e-10</td>\n",
              "    </tr>\n",
              "    <tr>\n",
              "      <th>22</th>\n",
              "      <td>good_t_3.txt</td>\n",
              "      <td>bmh</td>\n",
              "      <td>0.000047</td>\n",
              "      <td>0.000046</td>\n",
              "      <td>0.000046</td>\n",
              "      <td>0.000076</td>\n",
              "      <td>1.750925e-11</td>\n",
              "    </tr>\n",
              "    <tr>\n",
              "      <th>23</th>\n",
              "      <td>bad_t_3.txt</td>\n",
              "      <td>bmh</td>\n",
              "      <td>0.000765</td>\n",
              "      <td>0.000758</td>\n",
              "      <td>0.000741</td>\n",
              "      <td>0.000840</td>\n",
              "      <td>3.578990e-10</td>\n",
              "    </tr>\n",
              "    <tr>\n",
              "      <th>24</th>\n",
              "      <td>good_t_4.txt</td>\n",
              "      <td>naive</td>\n",
              "      <td>0.002739</td>\n",
              "      <td>0.002665</td>\n",
              "      <td>0.002605</td>\n",
              "      <td>0.004723</td>\n",
              "      <td>9.838908e-08</td>\n",
              "    </tr>\n",
              "    <tr>\n",
              "      <th>25</th>\n",
              "      <td>bad_t_4.txt</td>\n",
              "      <td>naive</td>\n",
              "      <td>0.725996</td>\n",
              "      <td>0.724023</td>\n",
              "      <td>0.714291</td>\n",
              "      <td>0.762463</td>\n",
              "      <td>6.678497e-05</td>\n",
              "    </tr>\n",
              "    <tr>\n",
              "      <th>26</th>\n",
              "      <td>good_t_4.txt</td>\n",
              "      <td>robin_carp</td>\n",
              "      <td>0.006826</td>\n",
              "      <td>0.006703</td>\n",
              "      <td>0.006653</td>\n",
              "      <td>0.011552</td>\n",
              "      <td>4.542346e-07</td>\n",
              "    </tr>\n",
              "    <tr>\n",
              "      <th>27</th>\n",
              "      <td>bad_t_4.txt</td>\n",
              "      <td>robin_carp</td>\n",
              "      <td>0.002756</td>\n",
              "      <td>0.002734</td>\n",
              "      <td>0.002539</td>\n",
              "      <td>0.003552</td>\n",
              "      <td>1.400345e-08</td>\n",
              "    </tr>\n",
              "    <tr>\n",
              "      <th>28</th>\n",
              "      <td>good_t_4.txt</td>\n",
              "      <td>kmp</td>\n",
              "      <td>0.003189</td>\n",
              "      <td>0.003149</td>\n",
              "      <td>0.003117</td>\n",
              "      <td>0.005585</td>\n",
              "      <td>6.319824e-08</td>\n",
              "    </tr>\n",
              "    <tr>\n",
              "      <th>29</th>\n",
              "      <td>bad_t_4.txt</td>\n",
              "      <td>kmp</td>\n",
              "      <td>0.003478</td>\n",
              "      <td>0.003430</td>\n",
              "      <td>0.003404</td>\n",
              "      <td>0.005527</td>\n",
              "      <td>5.939336e-08</td>\n",
              "    </tr>\n",
              "    <tr>\n",
              "      <th>30</th>\n",
              "      <td>good_t_4.txt</td>\n",
              "      <td>bmh</td>\n",
              "      <td>0.000100</td>\n",
              "      <td>0.000099</td>\n",
              "      <td>0.000095</td>\n",
              "      <td>0.000145</td>\n",
              "      <td>4.886431e-11</td>\n",
              "    </tr>\n",
              "    <tr>\n",
              "      <th>31</th>\n",
              "      <td>bad_t_4.txt</td>\n",
              "      <td>bmh</td>\n",
              "      <td>0.003678</td>\n",
              "      <td>0.003671</td>\n",
              "      <td>0.003561</td>\n",
              "      <td>0.004094</td>\n",
              "      <td>7.059355e-09</td>\n",
              "    </tr>\n",
              "  </tbody>\n",
              "</table>\n",
              "</div>"
            ],
            "text/plain": [
              "            file      method      mean  ...       min       max      variance\n",
              "0   good_t_1.txt       naive  0.000165  ...  0.000160  0.000196  4.412927e-11\n",
              "1    bad_t_1.txt       naive  0.000004  ...  0.000004  0.000007  1.072010e-13\n",
              "2   good_t_1.txt  robin_carp  0.000466  ...  0.000399  0.000748  3.538786e-09\n",
              "3    bad_t_1.txt  robin_carp  0.000008  ...  0.000006  0.000015  3.303029e-12\n",
              "4   good_t_1.txt         kmp  0.000175  ...  0.000169  0.000186  1.082128e-11\n",
              "5    bad_t_1.txt         kmp  0.000006  ...  0.000006  0.000010  2.926072e-13\n",
              "6   good_t_1.txt         bmh  0.000383  ...  0.000372  0.000433  1.414009e-10\n",
              "7    bad_t_1.txt         bmh  0.000011  ...  0.000009  0.000116  1.135315e-10\n",
              "8   good_t_2.txt       naive  0.000276  ...  0.000268  0.000406  2.122528e-10\n",
              "9    bad_t_2.txt       naive  0.000138  ...  0.000135  0.000169  2.517197e-11\n",
              "10  good_t_2.txt  robin_carp  0.000689  ...  0.000648  0.001251  3.433216e-09\n",
              "11   bad_t_2.txt  robin_carp  0.000049  ...  0.000046  0.000086  2.874910e-11\n",
              "12  good_t_2.txt         kmp  0.000300  ...  0.000283  0.000395  2.413610e-10\n",
              "13   bad_t_2.txt         kmp  0.000058  ...  0.000055  0.000096  3.799807e-11\n",
              "14  good_t_2.txt         bmh  0.000130  ...  0.000125  0.000233  1.403411e-10\n",
              "15   bad_t_2.txt         bmh  0.000076  ...  0.000073  0.000115  3.242860e-11\n",
              "16  good_t_3.txt       naive  0.000817  ...  0.000799  0.001360  3.107374e-09\n",
              "17   bad_t_3.txt       naive  0.014071  ...  0.013853  0.019694  5.561547e-07\n",
              "18  good_t_3.txt  robin_carp  0.002030  ...  0.002012  0.002202  8.894086e-10\n",
              "19   bad_t_3.txt  robin_carp  0.000511  ...  0.000492  0.000555  7.081746e-11\n",
              "20  good_t_3.txt         kmp  0.000913  ...  0.000879  0.001014  2.864927e-10\n",
              "21   bad_t_3.txt         kmp  0.000567  ...  0.000546  0.000735  4.251293e-10\n",
              "22  good_t_3.txt         bmh  0.000047  ...  0.000046  0.000076  1.750925e-11\n",
              "23   bad_t_3.txt         bmh  0.000765  ...  0.000741  0.000840  3.578990e-10\n",
              "24  good_t_4.txt       naive  0.002739  ...  0.002605  0.004723  9.838908e-08\n",
              "25   bad_t_4.txt       naive  0.725996  ...  0.714291  0.762463  6.678497e-05\n",
              "26  good_t_4.txt  robin_carp  0.006826  ...  0.006653  0.011552  4.542346e-07\n",
              "27   bad_t_4.txt  robin_carp  0.002756  ...  0.002539  0.003552  1.400345e-08\n",
              "28  good_t_4.txt         kmp  0.003189  ...  0.003117  0.005585  6.319824e-08\n",
              "29   bad_t_4.txt         kmp  0.003478  ...  0.003404  0.005527  5.939336e-08\n",
              "30  good_t_4.txt         bmh  0.000100  ...  0.000095  0.000145  4.886431e-11\n",
              "31   bad_t_4.txt         bmh  0.003678  ...  0.003561  0.004094  7.059355e-09\n",
              "\n",
              "[32 rows x 7 columns]"
            ]
          },
          "metadata": {
            "tags": []
          },
          "execution_count": 14
        }
      ]
    },
    {
      "cell_type": "markdown",
      "metadata": {
        "id": "Udh2s-QeNLZi",
        "colab_type": "text"
      },
      "source": [
        "## Graphs comparison"
      ]
    },
    {
      "cell_type": "code",
      "metadata": {
        "id": "c0dyXkzPtP_U",
        "colab_type": "code",
        "colab": {}
      },
      "source": [
        "def plot_time_charts(time_df, files, methods = [naive, robin_carp, kmp, bmh], begin_index = 'method', end_index = 'max'):\n",
        "  methods_names = []\n",
        "  for method in methods:\n",
        "    methods_names.append(str(method.__name__))\n",
        "  for file in files:\n",
        "    df_concrete_file = time_df.loc[lambda df: (df['file'] == file), begin_index:end_index]\n",
        "    df_concrete_file_concrete_methods = df_concrete_file.loc[df_concrete_file['method'].isin(methods_names)]\n",
        "    df_concrete_file_concrete_methods.plot(kind ='bar', x='method', title = file, position = 1)"
      ],
      "execution_count": 0,
      "outputs": []
    },
    {
      "cell_type": "markdown",
      "metadata": {
        "id": "xPcXVHBh0Qr9",
        "colab_type": "text"
      },
      "source": [
        "### All methods"
      ]
    },
    {
      "cell_type": "code",
      "metadata": {
        "id": "mtDJxopTpOjx",
        "colab_type": "code",
        "outputId": "865eae38-6e05-4a64-c4f6-4cd729305e9d",
        "colab": {
          "base_uri": "https://localhost:8080/",
          "height": 1000
        }
      },
      "source": [
        "for i in range(0, len(good_files)):\n",
        "  plot_time_charts(time_df, files = [good_files[i], bad_files[i]])"
      ],
      "execution_count": 0,
      "outputs": [
        {
          "output_type": "display_data",
          "data": {
            "image/png": "[encoded data removed]",
            "text/plain": [
              "<Figure size 432x288 with 1 Axes>"
            ]
          },
          "metadata": {
            "tags": [],
            "needs_background": "light"
          }
        },
        {
          "output_type": "display_data",
          "data": {
            "image/png": "[encoded data removed]",
            "text/plain": [
              "<Figure size 432x288 with 1 Axes>"
            ]
          },
          "metadata": {
            "tags": [],
            "needs_background": "light"
          }
        },
        {
          "output_type": "display_data",
          "data": {
            "image/png": "[encoded data removed]",
            "text/plain": [
              "<Figure size 432x288 with 1 Axes>"
            ]
          },
          "metadata": {
            "tags": [],
            "needs_background": "light"
          }
        },
        {
          "output_type": "display_data",
          "data": {
            "image/png": "[encoded data removed]",
            "text/plain": [
              "<Figure size 432x288 with 1 Axes>"
            ]
          },
          "metadata": {
            "tags": [],
            "needs_background": "light"
          }
        },
        {
          "output_type": "display_data",
          "data": {
            "image/png": "[encoded data removed]",
            "text/plain": [
              "<Figure size 432x288 with 1 Axes>"
            ]
          },
          "metadata": {
            "tags": [],
            "needs_background": "light"
          }
        },
        {
          "output_type": "display_data",
          "data": {
            "image/png": "[encoded data removed]",
            "text/plain": [
              "<Figure size 432x288 with 1 Axes>"
            ]
          },
          "metadata": {
            "tags": [],
            "needs_background": "light"
          }
        },
        {
          "output_type": "display_data",
          "data": {
            "image/png": "[encoded data removed]",
            "text/plain": [
              "<Figure size 432x288 with 1 Axes>"
            ]
          },
          "metadata": {
            "tags": [],
            "needs_background": "light"
          }
        },
        {
          "output_type": "display_data",
          "data": {
            "image/png": "[encoded data removed]",
            "text/plain": [
              "<Figure size 432x288 with 1 Axes>"
            ]
          },
          "metadata": {
            "tags": [],
            "needs_background": "light"
          }
        }
      ]
    },
    {
      "cell_type": "markdown",
      "metadata": {
        "id": "rJWZnKIDsul9",
        "colab_type": "text"
      },
      "source": [
        "The largest bad case has significant improvements for non-trivial algorithms on naive one.\n",
        "What is the faster  among them?\n"
      ]
    },
    {
      "cell_type": "markdown",
      "metadata": {
        "id": "1hMMi1wv0VGU",
        "colab_type": "text"
      },
      "source": [
        "### Non-trivial methods"
      ]
    },
    {
      "cell_type": "code",
      "metadata": {
        "id": "MLmVTlE0t_Vi",
        "colab_type": "code",
        "outputId": "e33fda37-aa04-41c4-ae7b-1828e4f17d6e",
        "colab": {
          "base_uri": "https://localhost:8080/",
          "height": 1000
        }
      },
      "source": [
        "non_trivial_methods = [robin_carp, kmp, bmh]\n",
        "plot_time_charts(time_df, files = bad_files, methods = non_trivial_methods)"
      ],
      "execution_count": 0,
      "outputs": [
        {
          "output_type": "display_data",
          "data": {
            "image/png": "[encoded data removed]",
            "text/plain": [
              "<Figure size 432x288 with 1 Axes>"
            ]
          },
          "metadata": {
            "tags": [],
            "needs_background": "light"
          }
        },
        {
          "output_type": "display_data",
          "data": {
            "image/png": "[encoded data removed]",
            "text/plain": [
              "<Figure size 432x288 with 1 Axes>"
            ]
          },
          "metadata": {
            "tags": [],
            "needs_background": "light"
          }
        },
        {
          "output_type": "display_data",
          "data": {
            "image/png": "[encoded data removed]",
            "text/plain": [
              "<Figure size 432x288 with 1 Axes>"
            ]
          },
          "metadata": {
            "tags": [],
            "needs_background": "light"
          }
        },
        {
          "output_type": "display_data",
          "data": {
            "image/png": "[encoded data removed]",
            "text/plain": [
              "<Figure size 432x288 with 1 Axes>"
            ]
          },
          "metadata": {
            "tags": [],
            "needs_background": "light"
          }
        }
      ]
    },
    {
      "cell_type": "markdown",
      "metadata": {
        "id": "PAP1ymiMxHNX",
        "colab_type": "text"
      },
      "source": [
        "**Robin carp algorithm shows better perfomance for all provided bad cases.**\n"
      ]
    },
    {
      "cell_type": "markdown",
      "metadata": {
        "id": "Jyzv2elDzEL3",
        "colab_type": "text"
      },
      "source": [
        "# Summary \n",
        "For easy cases, naive and BMH algorithm are better than others. For small ones naive has no overheads, that is the fastest one for small computattion flow. For longer cases, BMH takes its leadearship. \n",
        "\n",
        "For bad cases, Robin Carp algorithm has the fastest results between others. For large bad cases, it is starting to be clear, why other algorithms are exist, since their speed up is more than $100$ times."
      ]
    },
    {
      "cell_type": "markdown",
      "metadata": {
        "id": "r0FuScSRp8B6",
        "colab_type": "text"
      },
      "source": [
        "# Back UP\n",
        "Not for presentation.\n"
      ]
    },
    {
      "cell_type": "code",
      "metadata": {
        "id": "1DoS97PGAKZG",
        "colab_type": "code",
        "colab": {}
      },
      "source": [
        "import time\n",
        "import pandas as pd\n",
        "\n",
        "def get_time(num_iterations = 10, method = naive):\n",
        "    time_good_metrics = pd.DataFrame(columns=['median', 'min', 'max'])\n",
        "    time_bad_metrics = pd.DataFrame(columns=['median', 'min', 'max'])\n",
        "    for i in range(0,4):\n",
        "        time_good = []\n",
        "        time_bad = []\n",
        "        for j in range(0, num_iterations):\n",
        "            t0 = time.time()\n",
        "            method(good_patterns[i], good_texts[i])\n",
        "            t1 = time.time()\n",
        "            total = t1-t0\n",
        "            time_good.append(total)\n",
        "\n",
        "            t0 = time.time()\n",
        "            method(bad_patterns[i], bad_texts[i])\n",
        "            t1 = time.time()\n",
        "            total = t1-t0\n",
        "            time_bad.append(total)\n",
        "        time_good.sort()\n",
        "        time_bad.sort()\n",
        "        time_good_metrics.loc[i] = [time_good[int(num_iterations/2)], time_good[0], time_good[-1]]\n",
        "        time_bad_metrics.loc[i] = [time_bad[int(num_iterations/2)], time_bad[0], time_bad[-1]]\n",
        "    return time_good_metrics, time_bad_metrics"
      ],
      "execution_count": 0,
      "outputs": []
    },
    {
      "cell_type": "markdown",
      "metadata": {
        "id": "KNtotdq_6O1h",
        "colab_type": "text"
      },
      "source": [
        "## Naive time"
      ]
    },
    {
      "cell_type": "code",
      "metadata": {
        "id": "7uG_EVqd300-",
        "colab_type": "code",
        "outputId": "177134b2-16cd-4a0e-f687-1f68c035c8aa",
        "colab": {
          "base_uri": "https://localhost:8080/",
          "height": 377
        }
      },
      "source": [
        "naive_good, naive_bad = get_time(num_iterations=100, method = naive)\n",
        "print('Good datasets')\n",
        "print(naive_good)\n",
        "print('Bad datasets')\n",
        "print(naive_bad)\n",
        "naive_good"
      ],
      "execution_count": 0,
      "outputs": [
        {
          "output_type": "stream",
          "text": [
            "Good datasets\n",
            "     median       min       max\n",
            "0  0.000154  0.000151  0.000421\n",
            "1  0.000260  0.000254  0.000664\n",
            "2  0.000766  0.000756  0.001333\n",
            "3  0.002520  0.002486  0.003074\n",
            "Bad datasets\n",
            "     median       min       max\n",
            "0  0.000004  0.000004  0.000083\n",
            "1  0.000130  0.000129  0.000277\n",
            "2  0.013349  0.013261  0.022739\n",
            "3  0.760065  0.753563  0.781395\n"
          ],
          "name": "stdout"
        },
        {
          "output_type": "execute_result",
          "data": {
            "text/html": [
              "<div>\n",
              "<style scoped>\n",
              "    .dataframe tbody tr th:only-of-type {\n",
              "        vertical-align: middle;\n",
              "    }\n",
              "\n",
              "    .dataframe tbody tr th {\n",
              "        vertical-align: top;\n",
              "    }\n",
              "\n",
              "    .dataframe thead th {\n",
              "        text-align: right;\n",
              "    }\n",
              "</style>\n",
              "<table border=\"1\" class=\"dataframe\">\n",
              "  <thead>\n",
              "    <tr style=\"text-align: right;\">\n",
              "      <th></th>\n",
              "      <th>median</th>\n",
              "      <th>min</th>\n",
              "      <th>max</th>\n",
              "    </tr>\n",
              "  </thead>\n",
              "  <tbody>\n",
              "    <tr>\n",
              "      <th>0</th>\n",
              "      <td>0.000154</td>\n",
              "      <td>0.000151</td>\n",
              "      <td>0.000421</td>\n",
              "    </tr>\n",
              "    <tr>\n",
              "      <th>1</th>\n",
              "      <td>0.000260</td>\n",
              "      <td>0.000254</td>\n",
              "      <td>0.000664</td>\n",
              "    </tr>\n",
              "    <tr>\n",
              "      <th>2</th>\n",
              "      <td>0.000766</td>\n",
              "      <td>0.000756</td>\n",
              "      <td>0.001333</td>\n",
              "    </tr>\n",
              "    <tr>\n",
              "      <th>3</th>\n",
              "      <td>0.002520</td>\n",
              "      <td>0.002486</td>\n",
              "      <td>0.003074</td>\n",
              "    </tr>\n",
              "  </tbody>\n",
              "</table>\n",
              "</div>"
            ],
            "text/plain": [
              "     median       min       max\n",
              "0  0.000154  0.000151  0.000421\n",
              "1  0.000260  0.000254  0.000664\n",
              "2  0.000766  0.000756  0.001333\n",
              "3  0.002520  0.002486  0.003074"
            ]
          },
          "metadata": {
            "tags": []
          },
          "execution_count": 16
        }
      ]
    },
    {
      "cell_type": "markdown",
      "metadata": {
        "id": "0iA3OVXS1Y4C",
        "colab_type": "text"
      },
      "source": [
        "##  Robin Carp time"
      ]
    },
    {
      "cell_type": "code",
      "metadata": {
        "id": "EbxmUSWk5cuu",
        "colab_type": "code",
        "outputId": "1e504f3d-cbbc-4c34-880d-7886f22eb20a",
        "colab": {
          "base_uri": "https://localhost:8080/",
          "height": 204
        }
      },
      "source": [
        "rb_good, rb_bad = get_time(num_iterations=1000, method = robin_carp)\n",
        "print('Good datasets')\n",
        "print(rb_good)\n",
        "print(rb_bad)"
      ],
      "execution_count": 0,
      "outputs": [
        {
          "output_type": "stream",
          "text": [
            "Good datasets\n",
            "     median       min       max\n",
            "0  0.000387  0.000378  0.000865\n",
            "1  0.000643  0.000623  0.001213\n",
            "2  0.001909  0.001885  0.003557\n",
            "3  0.006238  0.006060  0.011148\n",
            "     median       min       max\n",
            "0  0.000006  0.000005  0.000216\n",
            "1  0.000045  0.000043  0.000099\n",
            "2  0.000471  0.000456  0.000858\n",
            "3  0.002436  0.002384  0.004813\n"
          ],
          "name": "stdout"
        }
      ]
    },
    {
      "cell_type": "markdown",
      "metadata": {
        "id": "Ids3B-Ch5u8L",
        "colab_type": "text"
      },
      "source": [
        "## Knuth Morris Pratt time"
      ]
    },
    {
      "cell_type": "code",
      "metadata": {
        "id": "-8-QW5mr5uHd",
        "colab_type": "code",
        "outputId": "6f3d19a0-50a7-48ba-bdd5-41db5252d10a",
        "colab": {
          "base_uri": "https://localhost:8080/",
          "height": 221
        }
      },
      "source": [
        "kmp_good, kmp_bad = get_time(num_iterations=1000, method = kmp)\n",
        "print('Good datasets')\n",
        "print(kmp_good)\n",
        "print('Bad datasets')\n",
        "print(kmp_bad)"
      ],
      "execution_count": 0,
      "outputs": [
        {
          "output_type": "stream",
          "text": [
            "Good datasets\n",
            "     median       min       max\n",
            "0  0.000170  0.000164  0.000286\n",
            "1  0.000291  0.000279  0.000728\n",
            "2  0.000894  0.000860  0.002027\n",
            "3  0.003091  0.003063  0.005820\n",
            "Bad datasets\n",
            "     median       min       max\n",
            "0  0.000006  0.000005  0.000032\n",
            "1  0.000055  0.000052  0.000139\n",
            "2  0.000554  0.000534  0.001112\n",
            "3  0.003395  0.003352  0.006148\n"
          ],
          "name": "stdout"
        }
      ]
    },
    {
      "cell_type": "markdown",
      "metadata": {
        "id": "dvKYVvuMQvED",
        "colab_type": "text"
      },
      "source": [
        "## BMH time"
      ]
    },
    {
      "cell_type": "code",
      "metadata": {
        "id": "Mp8WyvsfQxb7",
        "colab_type": "code",
        "outputId": "a99d17f0-c8df-42db-bb40-f22fb27ce4be",
        "colab": {
          "base_uri": "https://localhost:8080/",
          "height": 232
        }
      },
      "source": [
        "bmh_good, bmh_bad = get_time(num_iterations=10, method = bmh)\n",
        "print('Good datasets')\n",
        "print(bmh_good)\n",
        "bmh_good\n",
        "bmh_bad\n",
        "print('Bad datasets')\n",
        "print(bmh_bad)"
      ],
      "execution_count": 0,
      "outputs": [
        {
          "output_type": "error",
          "ename": "NameError",
          "evalue": "ignored",
          "traceback": [
            "\u001b[0;31m---------------------------------------------------------------------------\u001b[0m",
            "\u001b[0;31mNameError\u001b[0m                                 Traceback (most recent call last)",
            "\u001b[0;32m<ipython-input-2-0c98e9b88dd8>\u001b[0m in \u001b[0;36m<module>\u001b[0;34m()\u001b[0m\n\u001b[0;32m----> 1\u001b[0;31m \u001b[0mbmh_good\u001b[0m\u001b[0;34m,\u001b[0m \u001b[0mbmh_bad\u001b[0m \u001b[0;34m=\u001b[0m \u001b[0mget_time\u001b[0m\u001b[0;34m(\u001b[0m\u001b[0mnum_iterations\u001b[0m\u001b[0;34m=\u001b[0m\u001b[0;36m10\u001b[0m\u001b[0;34m,\u001b[0m \u001b[0mmethod\u001b[0m \u001b[0;34m=\u001b[0m \u001b[0mbmh\u001b[0m\u001b[0;34m)\u001b[0m\u001b[0;34m\u001b[0m\u001b[0;34m\u001b[0m\u001b[0m\n\u001b[0m\u001b[1;32m      2\u001b[0m \u001b[0mprint\u001b[0m\u001b[0;34m(\u001b[0m\u001b[0;34m'Good datasets'\u001b[0m\u001b[0;34m)\u001b[0m\u001b[0;34m\u001b[0m\u001b[0;34m\u001b[0m\u001b[0m\n\u001b[1;32m      3\u001b[0m \u001b[0mprint\u001b[0m\u001b[0;34m(\u001b[0m\u001b[0mbmh_good\u001b[0m\u001b[0;34m)\u001b[0m\u001b[0;34m\u001b[0m\u001b[0;34m\u001b[0m\u001b[0m\n\u001b[1;32m      4\u001b[0m \u001b[0mbmh_good\u001b[0m\u001b[0;34m\u001b[0m\u001b[0;34m\u001b[0m\u001b[0m\n\u001b[1;32m      5\u001b[0m \u001b[0mbmh_bad\u001b[0m\u001b[0;34m\u001b[0m\u001b[0;34m\u001b[0m\u001b[0m\n",
            "\u001b[0;31mNameError\u001b[0m: name 'get_time' is not defined"
          ]
        }
      ]
    },
    {
      "cell_type": "code",
      "metadata": {
        "id": "QONH6GPDQ-Eb",
        "colab_type": "code",
        "colab": {}
      },
      "source": [
        ""
      ],
      "execution_count": 0,
      "outputs": []
    }
  ]
}